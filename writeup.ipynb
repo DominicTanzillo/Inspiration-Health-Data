{
 "cells": [
  {
   "metadata": {},
   "cell_type": "markdown",
   "source": "<a href='https://ai.meng.duke.edu'> = <img align=\"left\" style=\"padding-top:10px;\" src=https://storage.googleapis.com/aipi_datasets/Duke-AIPI-Logo.png>"
  },
  {
   "metadata": {},
   "cell_type": "markdown",
   "source": "# Visualization of Inspiration Astronaut Biomarkers After 3 Days in Space"
  },
  {
   "metadata": {},
   "cell_type": "markdown",
   "source": [
    "## Background\n",
    "We are acting as the first data scientist on the Inspiration-Health project. Our first major task is to build a reproducible pipeline to clean, transform, and visualize astronaut biomarker data from the SpaceX Inspiration4 mission.\n",
    "Instead of building predictive models, our focus is on identifying and visualizing significant deviations from baseline values to help communicate health changes during and after spaceflight.\n",
    "\n",
    "\n",
    "## Data\n",
    "We are working with astronaut biospecimen data from the SpaceX Inspiration4 Mission (NASA OSD-575).\n",
    "The cleaned files in `cleaned_data/` include the Comprehensive Metabolic Panel (CMP), Cardiovascular Multiplex Panel, and Immune Multiplex Panel.\n",
    "\n",
    "Each dataset is organized in long format, where each row corresponds to a single measurement for a given astronaut at a given timepoint.\n",
    "Key columns include:\n",
    "\n",
    "Each dataset is organized in long format, where each row corresponds to a single measurement for a given astronaut at a given timepoint.\n",
    "Key columns include:\n",
    "\n",
    "- analyte: the biomarker name (for example, glucose, creatinine, sodium, albumin)\n",
    "- value: measured biomarker value\n",
    "- range_min, range_max: clinical reference ranges for each analyte. Depending on the analyte, this is either the minimum/maximum detectable or the accepted healthy reference range\n",
    "- units: measurement units (mg/dL, U/L, etc.)\n",
    "- test_type: the panel type (CMP, cardiovascular multiplex, immune multiplex)\n",
    "- subject_id: astronaut ID (C001–C004)\n",
    "- sex: M or F\n",
    "- timepoint: collection time relative to flight (L-92, L-44, L-3 pre-flight; R+1, R+45, R+82 post-flight)\n",
    "\n",
    "These features allow us to:\n",
    "\n",
    "- Track biomarker trajectories across mission phases\n",
    "- Compare astronaut values to a baseline (pre-flight average)\n",
    "- Identify deviations outside clinical reference ranges\n",
    "- Visualize both individual astronaut responses and group trends\n",
    "\n",
    "## Approach\n",
    "We built a pipeline that follows these steps:\n",
    "\n",
    "1. Load data\n",
    "   Merge metadata and biomarker tables.\n",
    "\n",
    "2. Clean data\n",
    "   Handle missing values, outliers, and consistency issues.\n",
    "\n",
    "3. Feature engineering for visualization\n",
    "   Compute a baseline mean for each analyte (average of L-92, L-44, L-3).\n",
    "   Calculate delta = value – baseline at each post-flight timepoint.\n",
    "   Flag analytes with statistically or clinically notable deviations.\n",
    "\n",
    "4. Visualization and App\n",
    "   Create line plots of biomarker trajectories across timepoints.\n",
    "   Highlight analytes with the largest relative changes."
   ]
  },
  {
   "metadata": {},
   "cell_type": "markdown",
   "source": [
    "### Preprocessing the data\n",
    "\n",
    "The data files were preprocessed using `preprocess.py`.\n",
    "\n",
    "This script automates the handling of astronaut health data stored in CSV files. It reads the transformed data from the `data` directory, extracts astronaut identifiers and timepoints, checks for missing or duplicate values, and saves cleaned datasets in both combined and astronaut-specific formats.\n",
    "\n",
    "#### What the script does\n",
    "1. Reads all CSV files in the specified input directory (`data` by default).\n",
    "2. Splits the `Sample Name` column (for example, `C001_serum_L-3`) into two parts:\n",
    "   - astronautID (e.g., C001)\n",
    "   - timepoint (e.g., L-3)\n",
    "3. Performs quality checks:\n",
    "   - Reports any missing values per column\n",
    "   - Reports duplicate rows if they exist\n",
    "4. Saves outputs:\n",
    "   - `<filename>_all_astronauts.csv` as the combined file with astronaut and timepoint columns added\n",
    "   - `<filename>_<astronautID>.csv` as per-astronaut subsets for easier analysis\n",
    "\n",
    "#### Expected input format\n",
    "- Each CSV file must contain a column called `Sample Name`\n",
    "- The expected naming convention in `Sample Name` is `astronautID_sampletype_timepoint`, for example `C001_serum_L-3`\n"
   ]
  },
  {
   "metadata": {},
   "cell_type": "markdown",
   "source": [
    "<details>\n",
    "<summary>Show preprocessing script embedded in preprocessing.py</summary>\n",
    "\n",
    "```python\n",
    "import os\n",
    "import pandas as pd\n",
    "from pathlib import Path\n",
    "\n",
    "def process_files(input_dir=\"cleaned_data\"):\n",
    "\n",
    "    # Ensure directory exists\n",
    "    input_path = Path(input_dir)\n",
    "    if not input_path.exists():\n",
    "        print(f\"Directory {input_dir} not found.\")\n",
    "        return\n",
    "\n",
    "    # Get all CSV files\n",
    "    csv_files = [f for f in input_path.iterdir() if f.suffix == \".csv\"]\n",
    "    if not csv_files:\n",
    "        print(\"No CSV files found in\", input_dir)\n",
    "        return\n",
    "\n",
    "    for filepath in csv_files:\n",
    "        filename = filepath.stem  # file name without extension\n",
    "        print(f\"\\nProcessing {filepath.name}...\")\n",
    "\n",
    "        # Read CSV\n",
    "        df = pd.read_csv(filepath)\n",
    "\n",
    "        # --- Step 1: Split \"Sample Name\" ---\n",
    "        if \"Sample Name\" not in df.columns:\n",
    "            print(f\" Skipping {filepath.name} (no 'Sample Name' column).\")\n",
    "            continue\n",
    "\n",
    "        split_cols = df[\"Sample Name\"].str.split(\"_\", expand=True)\n",
    "\n",
    "        # Expected format: C001_serum_L-3 → astronautID=C001, serum (ignored), timepoint=L-3\n",
    "        if split_cols.shape[1] >= 3:\n",
    "            df[\"astronautID\"] = split_cols[0]\n",
    "            df[\"timepoint\"] = split_cols[2]\n",
    "        else:\n",
    "            print(f\"Unexpected 'Sample Name' format in {filepath.name}\")\n",
    "            continue\n",
    "\n",
    "        # --- Step 2: Check for missing values ---\n",
    "        missing = df.isnull().sum()\n",
    "        if missing.any():\n",
    "            print(\"Missing values found:\\n\", missing[missing > 0])\n",
    "\n",
    "        # --- Step 3: Check for duplicates ---\n",
    "        duplicates = df.duplicated().sum()\n",
    "        if duplicates > 0:\n",
    "            print(f\"Found {duplicates} duplicated rows\")\n",
    "\n",
    "        # --- Step 4: Save combined file ---\n",
    "        all_astronauts_file = filepath.parent / f\"{filename}_all_astronauts.csv\"\n",
    "        df.to_csv(all_astronauts_file, index=False)\n",
    "        print(f\"saved {all_astronauts_file.name}\")\n",
    "\n",
    "        # --- Step 5: Save per astronaut ---\n",
    "        for astro_id, sub_df in df.groupby(\"astronautID\"):\n",
    "            out_file = filepath.parent / f\"{filename}_{astro_id}.csv\"\n",
    "            sub_df.to_csv(out_file, index=False)\n",
    "            print(f\"Saved {out_file.name}\")\n",
    "\n",
    "if __name__ == \"__main__\":\n",
    "    process_files(\"cleaned_data\")\n",
    "```"
   ]
  },
  {
   "metadata": {},
   "cell_type": "markdown",
   "source": [
    "## Handling Missing Values\n",
    "\n",
    "While cleaning the metabolic panel data we found a few gaps. Here is how we handled them:\n",
    "\n",
    "- Total bilirubin (1 missing): filled with the median since the distribution is skewed\n",
    "- BUN/creatinine ratio (22 missing): filled with the median for the same reason\n",
    "- BUN/creatinine ratio min and max (1 missing each): filled with the median, safe for small gaps\n",
    "- eGFR African American and non-African American (28 missing each): both columns dropped since all values were missing\n",
    "\n",
    "### Why?\n",
    "This approach keeps the data consistent while avoiding distortions from skewed lab values or empty columns."
   ]
  },
  {
   "metadata": {
    "ExecuteTime": {
     "end_time": "2025-09-30T06:39:57.703867Z",
     "start_time": "2025-09-30T06:39:57.693399Z"
    }
   },
   "cell_type": "code",
   "source": [
    "import pandas as pd\n",
    "import matplotlib.pyplot as plt\n",
    "import seaborn as sns\n",
    "\n",
    "# load data from metabolic panel csv\n",
    "df = pd.read_csv('cleaned_data/LSDS-8_Comprehensive_Metabolic_Panel_CMP_TRANSFORMED.csv')\n",
    "\n",
    "# check for missing values\n",
    "missing = df.isnull().sum()\n",
    "missing = missing[missing > 0]\n",
    "missing\n",
    "\n",
    "# Treating Missing Values by Imputing or Dropping\n",
    "\n",
    "# bilirubin values can be skewed, so median is more robust than mean\n",
    "df[\"total_bilirubin_value_milligram_per_deciliter\"] = df[\"total_bilirubin_value_milligram_per_deciliter\"].fillna(\n",
    "    df[\"total_bilirubin_value_milligram_per_deciliter\"].median()\n",
    ")\n",
    "\n",
    "# do we drop this? 22/28 are missing → impute with median for now\n",
    "df[\"bun_to_creatinine_ratio_value\"] = df[\"bun_to_creatinine_ratio_value\"].fillna(\n",
    "    df[\"bun_to_creatinine_ratio_value\"].median()\n",
    ")\n",
    "\n",
    "# values can be skewed, so median is more robust\n",
    "df[\"bun_to_creatinine_ratio_range_min\"] = df[\"bun_to_creatinine_ratio_range_min\"].fillna(\n",
    "    df[\"bun_to_creatinine_ratio_range_min\"].median()\n",
    ")\n",
    "df[\"bun_to_creatinine_ratio_range_max\"] = df[\"bun_to_creatinine_ratio_range_max\"].fillna(\n",
    "    df[\"bun_to_creatinine_ratio_range_max\"].median()\n",
    ")\n",
    "\n",
    "# drop empty columns\n",
    "df = df.drop(\n",
    "    columns=[\n",
    "        \"egfr_african_american_range_max_milliliter_per_minute_per_1.73_meter_squared\",\n",
    "        \"egfr_non_african_american_range_max_milliliter_per_minute_per_1.73_meter_squared\"\n",
    "    ],\n",
    "    errors=\"ignore\"\n",
    ")\n",
    "\n",
    "# check again for missing values\n",
    "missing = df.isnull().sum()\n",
    "missing = missing[missing > 0]\n",
    "missing\n",
    "\n",
    "# save cleaned data\n",
    "df.to_csv('all_astronauts_filled.csv', index=False)\n",
    "\n",
    "# new feature: anion gap\n",
    "df[\"anion_gap\"] = df[\"sodium_value_millimol_per_liter\"] - (\n",
    "        df[\"chloride_value_millimol_per_liter\"] + df[\"carbon_dioxide_value_millimol_per_liter\"]\n",
    ")"
   ],
   "outputs": [],
   "execution_count": 24
  },
  {
   "metadata": {},
   "cell_type": "markdown",
   "source": [
    "## Exploratory Data Analysis (EDA)\n",
    "Here we visualize key biomarkers. We plot the anion gap over time for each astronaut, then detect and label outliers across numeric features using boxplots.\n",
    "\n",
    "### Outlier Detection in the Metabolic Panel\n",
    "\n",
    "We used a boxplot approach based on the interquartile range (IQR) to flag unusual values across all astronauts.\n",
    "\n",
    "#### Method\n",
    "- For each numeric biomarker we calculated Q1 (25th percentile) and Q3 (75th percentile).\n",
    "- The IQR is defined as Q3 - Q1.\n",
    "- Values below Q1 - 1.5 * IQR or above Q3 + 1.5 * IQR were flagged as outliers.\n",
    "\n",
    "#### Visualization\n",
    "- Boxplots were generated for biomarkers with at least one outlier.\n",
    "- Outlier points are labeled with the astronaut ID and timepoint so they can be traced back in context.\n",
    "- Skipping biomarkers without outliers helps keep the results easy to read."
   ]
  },
  {
   "metadata": {
    "ExecuteTime": {
     "end_time": "2025-09-30T06:42:56.740511Z",
     "start_time": "2025-09-30T06:42:56.268059Z"
    }
   },
   "cell_type": "code",
   "source": [
    "df = pd.read_csv(\"cleaned_data/LSDS-8_Comprehensive_Metabolic_Panel_CMP_TRANSFORMED_all_astronauts.csv\")\n",
    "\n",
    "df[\"anion_gap\"] = df[\"sodium_value_millimol_per_liter\"] - (\n",
    "        df[\"chloride_value_millimol_per_liter\"] + df[\"carbon_dioxide_value_millimol_per_liter\"]\n",
    ")\n",
    "# plot Anion Gap over timepoints per astronaut\n",
    "timepoint_mapping = {\n",
    "    \"L-92\": -97,\n",
    "    \"L-44\": -49,\n",
    "    \"L-3\": -8,\n",
    "    \"R+1\": 6,\n",
    "    \"R+45\": 50,\n",
    "    \"R+82\": 87,\n",
    "    \"R+194\": 199\n",
    "}\n",
    "\n",
    "df[\"day\"] = df[\"timepoint\"].map(timepoint_mapping)\n",
    "\n",
    "df_anion = df[[\"astronautID\", \"day\", \"timepoint\", \"anion_gap\"]].dropna()\n",
    "df_anion = df_anion.sort_values(by=[\"astronautID\", \"day\"])\n",
    "\n",
    "plt.figure(figsize=(8, 6))\n",
    "for astro_id, sub_df in df_anion.groupby(\"astronautID\"):\n",
    "    plt.plot(sub_df[\"day\"], sub_df[\"anion_gap\"], marker=\"o\", label=astro_id)\n",
    "\n",
    "plt.title(\"Anion Gap Across Astronauts\")\n",
    "plt.xlabel(\"Timepoint\")\n",
    "plt.ylabel(\"Anion Gap (mmol/L)\")\n",
    "plt.axvline(0, color=\"gray\", linestyle=\"--\", label=\"Launch\")\n",
    "plt.xticks(\n",
    "    ticks=list(timepoint_mapping.values()),\n",
    "    labels=list(timepoint_mapping.keys()),\n",
    "    rotation=45,\n",
    "    ha=\"right\"\n",
    ")\n",
    "plt.legend(title=\"Astronaut ID\")\n",
    "plt.tight_layout()\n",
    "plt.show()\n",
    "\n",
    "# Outlier detection across numeric columns\n",
    "numeric_cols = df.select_dtypes(include=[\"number\"]).columns\n",
    "\n",
    "max_plots = 3  # Change to limit the number of plots shown\n",
    "plotted = 0\n",
    "\n",
    "for col in numeric_cols:\n",
    "    if plotted >= max_plots:\n",
    "        break\n",
    "\n",
    "    Q1 = df[col].quantile(0.25)\n",
    "    Q3 = df[col].quantile(0.75)\n",
    "    IQR = Q3 - Q1\n",
    "    lower = Q1 - 1.5 * IQR\n",
    "    upper = Q3 + 1.5 * IQR\n",
    "\n",
    "    outliers = df[(df[col] < lower) | (df[col] > upper)]\n",
    "\n",
    "    if outliers.empty:\n",
    "        continue  # skip this column if no outliers\n",
    "\n",
    "    plt.figure(figsize=(5, 4))\n",
    "    ax = sns.boxplot(y=df[col], color=\"skyblue\")\n",
    "\n",
    "    # Annotate outliers with astronaut ID and timepoint\n",
    "    for idx, val in outliers[col].items():\n",
    "        label = f\"{df.loc[idx, 'astronautID']}_{df.loc[idx, 'timepoint']}\"\n",
    "        ax.annotate(\n",
    "            label,\n",
    "            xy=(0, val), xycoords=\"data\",\n",
    "            xytext=(15, 0), textcoords=\"offset points\",\n",
    "            ha=\"left\", va=\"center\", fontsize=7,\n",
    "            arrowprops=dict(arrowstyle=\"->\", lw=0.5, color=\"gray\")\n",
    "        )\n",
    "\n",
    "    plt.title(f\"Outliers in {col}\", fontsize=11)\n",
    "    plt.suptitle(\"Metabolic Panel Outlier Detection\", fontsize=14, y=1.02)\n",
    "    plt.tight_layout()\n",
    "    plt.show()\n",
    "\n",
    "    plotted += 1"
   ],
   "outputs": [
    {
     "data": {
      "text/plain": [
       "<Figure size 800x600 with 1 Axes>"
      ],
      "image/png": "[encoded data removed]"
     },
     "metadata": {},
     "output_type": "display_data"
    },
    {
     "data": {
      "text/plain": [
       "<Figure size 500x400 with 1 Axes>"
      ],
      "image/png": "[encoded data removed]"
     },
     "metadata": {},
     "output_type": "display_data"
    },
    {
     "data": {
      "text/plain": [
       "<Figure size 500x400 with 1 Axes>"
      ],
      "image/png": "[encoded data removed]"
     },
     "metadata": {},
     "output_type": "display_data"
    },
    {
     "data": {
      "text/plain": [
       "<Figure size 500x400 with 1 Axes>"
      ],
      "image/png": "[encoded data removed]"
     },
     "metadata": {},
     "output_type": "display_data"
    }
   ],
   "execution_count": 26
  },
  {
   "metadata": {},
   "cell_type": "markdown",
   "source": [
    "### Feature Engineering\n",
    "\n",
    "Once we had our `final_data`, we applied the `featureEngineering.py` script to enrich the datasets with two key transformations:\n",
    "\n",
    "1. Numeric flight-day scale\n",
    "   - Raw `timepoint` labels like `L-3` and `R+1` are mapped onto a stretched numeric axis.\n",
    "   - Launch day (`L0`) is set to day 0.\n",
    "   - Pre-launch days count down into the negatives (e.g., `L-3 → -3`).\n",
    "   - In-flight is artificially stretched to 30 days (`R+0 → 30`), so short spaceflights appear visibly distinct from recovery.\n",
    "   - Recovery days then continue sequentially (`R+1 → 31`, `R+7 → 37`, etc.).\n",
    "   - This stretching is intentional: while it introduces “fake” days, it ensures plots visually distinguish pre-launch**, in-flight, and post-flight phases.\n",
    "\n",
    "2. Derived features\n",
    "   - We compute the Anion Gap as:\n",
    "     $$\n",
    "     \\text{Anion Gap} = [\\text{Na}^+] - [\\text{Cl}^-] - [\\text{CO}_2]\n",
    "     $$\n",
    "   - This metric is clinically relevant for detecting metabolic acidosis and other imbalances, and is not directly provided in the raw data.\n",
    "   - The function adds `anion_gap_value` along with placeholder `min`/`max` columns so the reference ranges can be defined in `stats.py`.\n",
    "\n",
    "Together, these functions clean redundant columns (like `Sample Name`), provide a consistent timeline across astronauts, and introduce clinically meaningful derived biomarkers. This ensures downstream analysis and visualization are both aligned and interpretably enriched.\n",
    "\n",
    "Additionally, we will use the `tidy_from_wide` function from `scripts/stats` which makes our data usable in future sections.\n"
   ]
  },
  {
   "metadata": {
    "ExecuteTime": {
     "end_time": "2025-09-30T06:52:44.915518Z",
     "start_time": "2025-09-30T06:52:44.879357Z"
    }
   },
   "cell_type": "code",
   "source": [
    "import pandas as pd\n",
    "from scripts.featureEngineering import add_flight_day, add_derived_features\n",
    "from scripts.stats import tidy_from_wide\n",
    "\n",
    "# Load cleaned metabolic panel\n",
    "df = pd.read_csv(\"final_data/Metabolic_Panel.csv\")\n",
    "\n",
    "# Feature engineering\n",
    "df = add_flight_day(df)\n",
    "df = add_derived_features(df)\n",
    "\n",
    "# Convert to tidy format\n",
    "tidy_df = tidy_from_wide(df)\n",
    "tidy_df.head()"
   ],
   "outputs": [
    {
     "data": {
      "text/plain": [
       "  astronautID timepoint  flight_day  analyte  value  min  max    label  unit  \\\n",
       "0        C001       L-3          -3  albumin    4.9  3.6  5.1  Albumin  g/dL   \n",
       "1        C001      L-44         -44  albumin    5.0  3.6  5.1  Albumin  g/dL   \n",
       "2        C001      L-92         -92  albumin    5.0  3.6  5.1  Albumin  g/dL   \n",
       "3        C001       R+1          31  albumin    4.9  3.6  5.1  Albumin  g/dL   \n",
       "4        C001     R+194         224  albumin    4.6  3.6  5.1  Albumin  g/dL   \n",
       "\n",
       "    sex  \n",
       "0  Male  \n",
       "1  Male  \n",
       "2  Male  \n",
       "3  Male  \n",
       "4  Male  "
      ],
      "text/html": [
       "<div>\n",
       "<style scoped>\n",
       "    .dataframe tbody tr th:only-of-type {\n",
       "        vertical-align: middle;\n",
       "    }\n",
       "\n",
       "    .dataframe tbody tr th {\n",
       "        vertical-align: top;\n",
       "    }\n",
       "\n",
       "    .dataframe thead th {\n",
       "        text-align: right;\n",
       "    }\n",
       "</style>\n",
       "<table border=\"1\" class=\"dataframe\">\n",
       "  <thead>\n",
       "    <tr style=\"text-align: right;\">\n",
       "      <th></th>\n",
       "      <th>astronautID</th>\n",
       "      <th>timepoint</th>\n",
       "      <th>flight_day</th>\n",
       "      <th>analyte</th>\n",
       "      <th>value</th>\n",
       "      <th>min</th>\n",
       "      <th>max</th>\n",
       "      <th>label</th>\n",
       "      <th>unit</th>\n",
       "      <th>sex</th>\n",
       "    </tr>\n",
       "  </thead>\n",
       "  <tbody>\n",
       "    <tr>\n",
       "      <th>0</th>\n",
       "      <td>C001</td>\n",
       "      <td>L-3</td>\n",
       "      <td>-3</td>\n",
       "      <td>albumin</td>\n",
       "      <td>4.9</td>\n",
       "      <td>3.6</td>\n",
       "      <td>5.1</td>\n",
       "      <td>Albumin</td>\n",
       "      <td>g/dL</td>\n",
       "      <td>Male</td>\n",
       "    </tr>\n",
       "    <tr>\n",
       "      <th>1</th>\n",
       "      <td>C001</td>\n",
       "      <td>L-44</td>\n",
       "      <td>-44</td>\n",
       "      <td>albumin</td>\n",
       "      <td>5.0</td>\n",
       "      <td>3.6</td>\n",
       "      <td>5.1</td>\n",
       "      <td>Albumin</td>\n",
       "      <td>g/dL</td>\n",
       "      <td>Male</td>\n",
       "    </tr>\n",
       "    <tr>\n",
       "      <th>2</th>\n",
       "      <td>C001</td>\n",
       "      <td>L-92</td>\n",
       "      <td>-92</td>\n",
       "      <td>albumin</td>\n",
       "      <td>5.0</td>\n",
       "      <td>3.6</td>\n",
       "      <td>5.1</td>\n",
       "      <td>Albumin</td>\n",
       "      <td>g/dL</td>\n",
       "      <td>Male</td>\n",
       "    </tr>\n",
       "    <tr>\n",
       "      <th>3</th>\n",
       "      <td>C001</td>\n",
       "      <td>R+1</td>\n",
       "      <td>31</td>\n",
       "      <td>albumin</td>\n",
       "      <td>4.9</td>\n",
       "      <td>3.6</td>\n",
       "      <td>5.1</td>\n",
       "      <td>Albumin</td>\n",
       "      <td>g/dL</td>\n",
       "      <td>Male</td>\n",
       "    </tr>\n",
       "    <tr>\n",
       "      <th>4</th>\n",
       "      <td>C001</td>\n",
       "      <td>R+194</td>\n",
       "      <td>224</td>\n",
       "      <td>albumin</td>\n",
       "      <td>4.6</td>\n",
       "      <td>3.6</td>\n",
       "      <td>5.1</td>\n",
       "      <td>Albumin</td>\n",
       "      <td>g/dL</td>\n",
       "      <td>Male</td>\n",
       "    </tr>\n",
       "  </tbody>\n",
       "</table>\n",
       "</div>"
      ]
     },
     "execution_count": 1,
     "metadata": {},
     "output_type": "execute_result"
    }
   ],
   "execution_count": 1
  },
  {
   "metadata": {},
   "cell_type": "markdown",
   "source": [
    "### Identify All the Statistical Deviance\n",
    "\n",
    "We want a simple table of analytes where an individual astronaut’s R+1 value was statistically different from baseline (p < 0.05), whether that difference is higher or lower than the baseline mean.\n",
    "\n",
    "The code below takes the results from `analyze_r1_vs_L()` and filters for these conditions, then saves the table to CSV for easy inspection.\n",
    "\n",
    "---\n",
    "\n",
    "#### Statistical Background\n",
    "\n",
    "For each astronaut $(a)$ and analyte $(x)$:\n",
    "\n",
    "1. Baseline distribution\n",
    "   Collect all pre-flight measurements (timepoints \\(L-92, L-44, L-3\\)):\n",
    "\n",
    "   $$\n",
    "   L_{a,x} = \\{ v_{a,x}^{L-92}, v_{a,x}^{L-44}, v_{a,x}^{L-3} \\}\n",
    "   $$\n",
    "\n",
    "   with sample mean\n",
    "\n",
    "   $$\n",
    "   \\bar{L}_{a,x} = \\frac{1}{n}\\sum_{i=1}^{n} v_{a,x}^{L_i}\n",
    "   $$\n",
    "\n",
    "   and sample standard deviation\n",
    "\n",
    "   $$\n",
    "   s_{a,x} = \\sqrt{\\frac{1}{n-1}\\sum_{i=1}^{n}(v_{a,x}^{L_i}-\\bar{L}_{a,x})^2}.\n",
    "   $$\n",
    "\n",
    "2. R+1 observation\n",
    "   Take the recovery-day measurement:\n",
    "\n",
    "   $$\n",
    "   R1_{a,x} = v_{a,x}^{R+1}.\n",
    "   $$\n",
    "\n",
    "3. One-sample t-test\n",
    "   Null hypothesis $(H_0)$: astronaut’s R+1 value is consistent with baseline distribution.\n",
    "\n",
    "   Test statistic:\n",
    "\n",
    "   $$\n",
    "   t = \\frac{R1_{a,x} - \\bar{L}_{a,x}}{s_{a,x}/\\sqrt{n}}\n",
    "   $$\n",
    "\n",
    "   where $n = |L_{a,x}|$.\n",
    "   The p-value is computed from Student’s $t$-distribution with $n-1$ degrees of freedom.\n",
    "\n",
    "4. Effect size (Cohen’s d)\n",
    "   To measure magnitude and direction:\n",
    "\n",
    "   $$\n",
    "   d = \\frac{R1_{a,x} - \\bar{L}_{a,x}}{s_{a,x}}\n",
    "   $$\n",
    "\n",
    "---\n",
    "\n",
    "#### Why This Matters\n",
    "\n",
    "- A significant p-value (< 0.05) means the R+1 value is unlikely to come from baseline variation.\n",
    "- Positive Cohen’s d values indicate the R+1 measurement is higher than baseline.\n",
    "- Negative Cohen’s d values indicate the R+1 measurement is lower than baseline.\n",
    "- Considering both directions allows us to identify biomarkers that either spike (possible stress, inflammation, recovery) or drop (possible suppression, depletion, altered regulation)."
   ]
  },
  {
   "metadata": {
    "ExecuteTime": {
     "end_time": "2025-09-30T06:55:48.637164Z",
     "start_time": "2025-09-30T06:55:48.525956Z"
    }
   },
   "cell_type": "code",
   "source": [
    "from scripts.stats import analyze_r1_vs_L, ANALYTE_INFO\n",
    "\n",
    "# Run analysis\n",
    "results_df = analyze_r1_vs_L(tidy_df)\n",
    "\n",
    "# Filter for significant deviations in either direction\n",
    "elevated = results_df[\n",
    "    (results_df[\"test_type\"] == \"within\") &\n",
    "    (results_df[\"p_value\"] < 0.05) &\n",
    "    (results_df[\"R1\"] != results_df[\"mean_L\"])\n",
    "].copy()\n",
    "\n",
    "# Add labels and units for readability\n",
    "elevated[\"label\"] = elevated[\"analyte\"].map(lambda x: ANALYTE_INFO[x][\"label\"])\n",
    "elevated[\"unit\"] = elevated[\"analyte\"].map(lambda x: ANALYTE_INFO[x][\"unit\"])\n",
    "\n",
    "# Reorder columns\n",
    "elevated = elevated[\n",
    "    [\"astronautID\", \"analyte\", \"label\", \"unit\", \"mean_L\", \"R1\", \"p_value\", \"effect_size\"]\n",
    "]\n",
    "\n",
    "# Save to CSV\n",
    "elevated.to_csv(\"R1_elevated_analytes.csv\", index=False)\n",
    "\n",
    "elevated.head()\n"
   ],
   "outputs": [
    {
     "data": {
      "text/plain": [
       "   astronautID               analyte                 label   unit  mean_L  \\\n",
       "8         C004  alkaline_phosphatase  Alkaline Phosphatase    U/L   56.33   \n",
       "10        C001                   alt                   ALT    U/L   14.67   \n",
       "12        C003                   alt                   ALT    U/L   12.67   \n",
       "13        C004                   alt                   ALT    U/L   36.33   \n",
       "23        C004               calcium                  Ca²⁺  mg/dL   10.10   \n",
       "\n",
       "      R1  p_value  effect_size  \n",
       "8   62.0   0.0234        3.710  \n",
       "10   9.0   0.0234       -3.710  \n",
       "12  19.0   0.0028       10.970  \n",
       "13  40.0   0.0315        3.175  \n",
       "23   9.8   0.0351       -3.000  "
      ],
      "text/html": [
       "<div>\n",
       "<style scoped>\n",
       "    .dataframe tbody tr th:only-of-type {\n",
       "        vertical-align: middle;\n",
       "    }\n",
       "\n",
       "    .dataframe tbody tr th {\n",
       "        vertical-align: top;\n",
       "    }\n",
       "\n",
       "    .dataframe thead th {\n",
       "        text-align: right;\n",
       "    }\n",
       "</style>\n",
       "<table border=\"1\" class=\"dataframe\">\n",
       "  <thead>\n",
       "    <tr style=\"text-align: right;\">\n",
       "      <th></th>\n",
       "      <th>astronautID</th>\n",
       "      <th>analyte</th>\n",
       "      <th>label</th>\n",
       "      <th>unit</th>\n",
       "      <th>mean_L</th>\n",
       "      <th>R1</th>\n",
       "      <th>p_value</th>\n",
       "      <th>effect_size</th>\n",
       "    </tr>\n",
       "  </thead>\n",
       "  <tbody>\n",
       "    <tr>\n",
       "      <th>8</th>\n",
       "      <td>C004</td>\n",
       "      <td>alkaline_phosphatase</td>\n",
       "      <td>Alkaline Phosphatase</td>\n",
       "      <td>U/L</td>\n",
       "      <td>56.33</td>\n",
       "      <td>62.0</td>\n",
       "      <td>0.0234</td>\n",
       "      <td>3.710</td>\n",
       "    </tr>\n",
       "    <tr>\n",
       "      <th>10</th>\n",
       "      <td>C001</td>\n",
       "      <td>alt</td>\n",
       "      <td>ALT</td>\n",
       "      <td>U/L</td>\n",
       "      <td>14.67</td>\n",
       "      <td>9.0</td>\n",
       "      <td>0.0234</td>\n",
       "      <td>-3.710</td>\n",
       "    </tr>\n",
       "    <tr>\n",
       "      <th>12</th>\n",
       "      <td>C003</td>\n",
       "      <td>alt</td>\n",
       "      <td>ALT</td>\n",
       "      <td>U/L</td>\n",
       "      <td>12.67</td>\n",
       "      <td>19.0</td>\n",
       "      <td>0.0028</td>\n",
       "      <td>10.970</td>\n",
       "    </tr>\n",
       "    <tr>\n",
       "      <th>13</th>\n",
       "      <td>C004</td>\n",
       "      <td>alt</td>\n",
       "      <td>ALT</td>\n",
       "      <td>U/L</td>\n",
       "      <td>36.33</td>\n",
       "      <td>40.0</td>\n",
       "      <td>0.0315</td>\n",
       "      <td>3.175</td>\n",
       "    </tr>\n",
       "    <tr>\n",
       "      <th>23</th>\n",
       "      <td>C004</td>\n",
       "      <td>calcium</td>\n",
       "      <td>Ca²⁺</td>\n",
       "      <td>mg/dL</td>\n",
       "      <td>10.10</td>\n",
       "      <td>9.8</td>\n",
       "      <td>0.0351</td>\n",
       "      <td>-3.000</td>\n",
       "    </tr>\n",
       "  </tbody>\n",
       "</table>\n",
       "</div>"
      ]
     },
     "execution_count": 2,
     "metadata": {},
     "output_type": "execute_result"
    }
   ],
   "execution_count": 2
  },
  {
   "metadata": {},
   "cell_type": "markdown",
   "source": [
    "### Visualizing Biomarkers Across Mission Days\n",
    "\n",
    "We use an interactive plotting function (`make_figure`) to display biomarker trends over time.\n",
    "This function builds a line plot for each astronaut, aligned to mission days, and overlays statistical reference bands when available. Healthy reference ranges are shown as dotted lines.\n",
    "The plots can highlight individual or group-level deviations from baseline and mark statistically significant changes at R+1.\n",
    "\n",
    "Below we call the function for sodium values across all astronauts."
   ]
  },
  {
   "metadata": {
    "ExecuteTime": {
     "end_time": "2025-09-30T06:57:45.593566Z",
     "start_time": "2025-09-30T06:57:45.084643Z"
    }
   },
   "cell_type": "code",
   "source": [
    "from scripts.graphMaking import make_figure\n",
    "\n",
    "fig = make_figure(\n",
    "    tidy_df=tidy_df,\n",
    "    stats_df=results_df,\n",
    "    analytes=[\"sodium\"],\n",
    "    astronaut_filter=None,\n",
    "    show_error=\"within\"  # options: \"within\", \"group\", or None\n",
    ")\n",
    "fig.show()"
   ],
   "outputs": [
    {
     "data": {
      "application/vnd.plotly.v1+json": {
       "data": [
        {
         "hovertemplate": "Day %{hovertext}<br>Value %{y}<extra></extra>",
         "hovertext": [
          "L-92",
          "L-44",
          "L-3",
          "R+1",
          "R+45",
          "R+82",
          "R+194"
         ],
         "line": {
          "color": "rgb(102,194,165)"
         },
         "marker": {
          "color": "rgb(102,194,165)"
         },
         "mode": "lines+markers",
         "name": "C001 (sodium)",
         "x": {
          "dtype": "i2",
          "bdata": "pP/U//3/HwBLAHAA4AA="
         },
         "y": {
          "dtype": "f8",
          "bdata": "AAAAAACgYUAAAAAAAGBhQAAAAAAAwGFAAAAAAABAYUAAAAAAAEBhQAAAAAAAgGFAAAAAAAAgYUA="
         },
         "type": "scatter"
        },
        {
         "hovertemplate": "Day %{hovertext}<br>Value %{y}<extra></extra>",
         "hovertext": [
          "L-92",
          "L-44",
          "L-3",
          "R+1",
          "R+45",
          "R+82",
          "R+194"
         ],
         "line": {
          "color": "rgb(252,141,98)"
         },
         "marker": {
          "color": "rgb(252,141,98)"
         },
         "mode": "lines+markers",
         "name": "C002 (sodium)",
         "x": {
          "dtype": "i2",
          "bdata": "pP/U//3/HwBLAHAA4AA="
         },
         "y": {
          "dtype": "f8",
          "bdata": "AAAAAADAYUAAAAAAAKBhQAAAAAAA4GFAAAAAAAAgYUAAAAAAAIBhQAAAAAAAoGFAAAAAAABAYUA="
         },
         "type": "scatter"
        },
        {
         "hovertemplate": "Day %{hovertext}<br>Value %{y}<extra></extra>",
         "hovertext": [
          "L-92",
          "L-44",
          "L-3",
          "R+1",
          "R+45",
          "R+82",
          "R+194"
         ],
         "line": {
          "color": "rgb(141,160,203)"
         },
         "marker": {
          "color": "rgb(141,160,203)"
         },
         "mode": "lines+markers",
         "name": "C003 (sodium)",
         "x": {
          "dtype": "i2",
          "bdata": "pP/U//3/HwBLAHAA4AA="
         },
         "y": {
          "dtype": "f8",
          "bdata": "AAAAAABgYUAAAAAAAGBhQAAAAAAAQGFAAAAAAAAgYUAAAAAAAABhQAAAAAAAQGFAAAAAAAAgYUA="
         },
         "type": "scatter"
        },
        {
         "hovertemplate": "Day %{hovertext}<br>Value %{y}<extra></extra>",
         "hovertext": [
          "L-92",
          "L-44",
          "L-3",
          "R+1",
          "R+45",
          "R+82",
          "R+194"
         ],
         "line": {
          "color": "rgb(231,138,195)"
         },
         "marker": {
          "color": "rgb(231,138,195)"
         },
         "mode": "lines+markers",
         "name": "C004 (sodium)",
         "x": {
          "dtype": "i2",
          "bdata": "pP/U//3/HwBLAHAA4AA="
         },
         "y": {
          "dtype": "f8",
          "bdata": "AAAAAABAYUAAAAAAAIBhQAAAAAAAoGFAAAAAAACAYUAAAAAAAGBhQAAAAAAAgGFAAAAAAACgYUA="
         },
         "type": "scatter"
        }
       ],
       "layout": {
        "template": {
         "data": {
          "barpolar": [
           {
            "marker": {
             "line": {
              "color": "white",
              "width": 0.5
             },
             "pattern": {
              "fillmode": "overlay",
              "size": 10,
              "solidity": 0.2
             }
            },
            "type": "barpolar"
           }
          ],
          "bar": [
           {
            "error_x": {
             "color": "#2a3f5f"
            },
            "error_y": {
             "color": "#2a3f5f"
            },
            "marker": {
             "line": {
              "color": "white",
              "width": 0.5
             },
             "pattern": {
              "fillmode": "overlay",
              "size": 10,
              "solidity": 0.2
             }
            },
            "type": "bar"
           }
          ],
          "carpet": [
           {
            "aaxis": {
             "endlinecolor": "#2a3f5f",
             "gridcolor": "#C8D4E3",
             "linecolor": "#C8D4E3",
             "minorgridcolor": "#C8D4E3",
             "startlinecolor": "#2a3f5f"
            },
            "baxis": {
             "endlinecolor": "#2a3f5f",
             "gridcolor": "#C8D4E3",
             "linecolor": "#C8D4E3",
             "minorgridcolor": "#C8D4E3",
             "startlinecolor": "#2a3f5f"
            },
            "type": "carpet"
           }
          ],
          "choropleth": [
           {
            "colorbar": {
             "outlinewidth": 0,
             "ticks": ""
            },
            "type": "choropleth"
           }
          ],
          "contourcarpet": [
           {
            "colorbar": {
             "outlinewidth": 0,
             "ticks": ""
            },
            "type": "contourcarpet"
           }
          ],
          "contour": [
           {
            "colorbar": {
             "outlinewidth": 0,
             "ticks": ""
            },
            "colorscale": [
             [
              0.0,
              "#0d0887"
             ],
             [
              0.1111111111111111,
              "#46039f"
             ],
             [
              0.2222222222222222,
              "#7201a8"
             ],
             [
              0.3333333333333333,
              "#9c179e"
             ],
             [
              0.4444444444444444,
              "#bd3786"
             ],
             [
              0.5555555555555556,
              "#d8576b"
             ],
             [
              0.6666666666666666,
              "#ed7953"
             ],
             [
              0.7777777777777778,
              "#fb9f3a"
             ],
             [
              0.8888888888888888,
              "#fdca26"
             ],
             [
              1.0,
              "#f0f921"
             ]
            ],
            "type": "contour"
           }
          ],
          "heatmap": [
           {
            "colorbar": {
             "outlinewidth": 0,
             "ticks": ""
            },
            "colorscale": [
             [
              0.0,
              "#0d0887"
             ],
             [
              0.1111111111111111,
              "#46039f"
             ],
             [
              0.2222222222222222,
              "#7201a8"
             ],
             [
              0.3333333333333333,
              "#9c179e"
             ],
             [
              0.4444444444444444,
              "#bd3786"
             ],
             [
              0.5555555555555556,
              "#d8576b"
             ],
             [
              0.6666666666666666,
              "#ed7953"
             ],
             [
              0.7777777777777778,
              "#fb9f3a"
             ],
             [
              0.8888888888888888,
              "#fdca26"
             ],
             [
              1.0,
              "#f0f921"
             ]
            ],
            "type": "heatmap"
           }
          ],
          "histogram2dcontour": [
           {
            "colorbar": {
             "outlinewidth": 0,
             "ticks": ""
            },
            "colorscale": [
             [
              0.0,
              "#0d0887"
             ],
             [
              0.1111111111111111,
              "#46039f"
             ],
             [
              0.2222222222222222,
              "#7201a8"
             ],
             [
              0.3333333333333333,
              "#9c179e"
             ],
             [
              0.4444444444444444,
              "#bd3786"
             ],
             [
              0.5555555555555556,
              "#d8576b"
             ],
             [
              0.6666666666666666,
              "#ed7953"
             ],
             [
              0.7777777777777778,
              "#fb9f3a"
             ],
             [
              0.8888888888888888,
              "#fdca26"
             ],
             [
              1.0,
              "#f0f921"
             ]
            ],
            "type": "histogram2dcontour"
           }
          ],
          "histogram2d": [
           {
            "colorbar": {
             "outlinewidth": 0,
             "ticks": ""
            },
            "colorscale": [
             [
              0.0,
              "#0d0887"
             ],
             [
              0.1111111111111111,
              "#46039f"
             ],
             [
              0.2222222222222222,
              "#7201a8"
             ],
             [
              0.3333333333333333,
              "#9c179e"
             ],
             [
              0.4444444444444444,
              "#bd3786"
             ],
             [
              0.5555555555555556,
              "#d8576b"
             ],
             [
              0.6666666666666666,
              "#ed7953"
             ],
             [
              0.7777777777777778,
              "#fb9f3a"
             ],
             [
              0.8888888888888888,
              "#fdca26"
             ],
             [
              1.0,
              "#f0f921"
             ]
            ],
            "type": "histogram2d"
           }
          ],
          "histogram": [
           {
            "marker": {
             "pattern": {
              "fillmode": "overlay",
              "size": 10,
              "solidity": 0.2
             }
            },
            "type": "histogram"
           }
          ],
          "mesh3d": [
           {
            "colorbar": {
             "outlinewidth": 0,
             "ticks": ""
            },
            "type": "mesh3d"
           }
          ],
          "parcoords": [
           {
            "line": {
             "colorbar": {
              "outlinewidth": 0,
              "ticks": ""
             }
            },
            "type": "parcoords"
           }
          ],
          "pie": [
           {
            "automargin": true,
            "type": "pie"
           }
          ],
          "scatter3d": [
           {
            "line": {
             "colorbar": {
              "outlinewidth": 0,
              "ticks": ""
             }
            },
            "marker": {
             "colorbar": {
              "outlinewidth": 0,
              "ticks": ""
             }
            },
            "type": "scatter3d"
           }
          ],
          "scattercarpet": [
           {
            "marker": {
             "colorbar": {
              "outlinewidth": 0,
              "ticks": ""
             }
            },
            "type": "scattercarpet"
           }
          ],
          "scattergeo": [
           {
            "marker": {
             "colorbar": {
              "outlinewidth": 0,
              "ticks": ""
             }
            },
            "type": "scattergeo"
           }
          ],
          "scattergl": [
           {
            "marker": {
             "colorbar": {
              "outlinewidth": 0,
              "ticks": ""
             }
            },
            "type": "scattergl"
           }
          ],
          "scattermapbox": [
           {
            "marker": {
             "colorbar": {
              "outlinewidth": 0,
              "ticks": ""
             }
            },
            "type": "scattermapbox"
           }
          ],
          "scattermap": [
           {
            "marker": {
             "colorbar": {
              "outlinewidth": 0,
              "ticks": ""
             }
            },
            "type": "scattermap"
           }
          ],
          "scatterpolargl": [
           {
            "marker": {
             "colorbar": {
              "outlinewidth": 0,
              "ticks": ""
             }
            },
            "type": "scatterpolargl"
           }
          ],
          "scatterpolar": [
           {
            "marker": {
             "colorbar": {
              "outlinewidth": 0,
              "ticks": ""
             }
            },
            "type": "scatterpolar"
           }
          ],
          "scatter": [
           {
            "fillpattern": {
             "fillmode": "overlay",
             "size": 10,
             "solidity": 0.2
            },
            "type": "scatter"
           }
          ],
          "scatterternary": [
           {
            "marker": {
             "colorbar": {
              "outlinewidth": 0,
              "ticks": ""
             }
            },
            "type": "scatterternary"
           }
          ],
          "surface": [
           {
            "colorbar": {
             "outlinewidth": 0,
             "ticks": ""
            },
            "colorscale": [
             [
              0.0,
              "#0d0887"
             ],
             [
              0.1111111111111111,
              "#46039f"
             ],
             [
              0.2222222222222222,
              "#7201a8"
             ],
             [
              0.3333333333333333,
              "#9c179e"
             ],
             [
              0.4444444444444444,
              "#bd3786"
             ],
             [
              0.5555555555555556,
              "#d8576b"
             ],
             [
              0.6666666666666666,
              "#ed7953"
             ],
             [
              0.7777777777777778,
              "#fb9f3a"
             ],
             [
              0.8888888888888888,
              "#fdca26"
             ],
             [
              1.0,
              "#f0f921"
             ]
            ],
            "type": "surface"
           }
          ],
          "table": [
           {
            "cells": {
             "fill": {
              "color": "#EBF0F8"
             },
             "line": {
              "color": "white"
             }
            },
            "header": {
             "fill": {
              "color": "#C8D4E3"
             },
             "line": {
              "color": "white"
             }
            },
            "type": "table"
           }
          ]
         },
         "layout": {
          "annotationdefaults": {
           "arrowcolor": "#2a3f5f",
           "arrowhead": 0,
           "arrowwidth": 1
          },
          "autotypenumbers": "strict",
          "coloraxis": {
           "colorbar": {
            "outlinewidth": 0,
            "ticks": ""
           }
          },
          "colorscale": {
           "diverging": [
            [
             0,
             "#8e0152"
            ],
            [
             0.1,
             "#c51b7d"
            ],
            [
             0.2,
             "#de77ae"
            ],
            [
             0.3,
             "#f1b6da"
            ],
            [
             0.4,
             "#fde0ef"
            ],
            [
             0.5,
             "#f7f7f7"
            ],
            [
             0.6,
             "#e6f5d0"
            ],
            [
             0.7,
             "#b8e186"
            ],
            [
             0.8,
             "#7fbc41"
            ],
            [
             0.9,
             "#4d9221"
            ],
            [
             1,
             "#276419"
            ]
           ],
           "sequential": [
            [
             0.0,
             "#0d0887"
            ],
            [
             0.1111111111111111,
             "#46039f"
            ],
            [
             0.2222222222222222,
             "#7201a8"
            ],
            [
             0.3333333333333333,
             "#9c179e"
            ],
            [
             0.4444444444444444,
             "#bd3786"
            ],
            [
             0.5555555555555556,
             "#d8576b"
            ],
            [
             0.6666666666666666,
             "#ed7953"
            ],
            [
             0.7777777777777778,
             "#fb9f3a"
            ],
            [
             0.8888888888888888,
             "#fdca26"
            ],
            [
             1.0,
             "#f0f921"
            ]
           ],
           "sequentialminus": [
            [
             0.0,
             "#0d0887"
            ],
            [
             0.1111111111111111,
             "#46039f"
            ],
            [
             0.2222222222222222,
             "#7201a8"
            ],
            [
             0.3333333333333333,
             "#9c179e"
            ],
            [
             0.4444444444444444,
             "#bd3786"
            ],
            [
             0.5555555555555556,
             "#d8576b"
            ],
            [
             0.6666666666666666,
             "#ed7953"
            ],
            [
             0.7777777777777778,
             "#fb9f3a"
            ],
            [
             0.8888888888888888,
             "#fdca26"
            ],
            [
             1.0,
             "#f0f921"
            ]
           ]
          },
          "colorway": [
           "#636efa",
           "#EF553B",
           "#00cc96",
           "#ab63fa",
           "#FFA15A",
           "#19d3f3",
           "#FF6692",
           "#B6E880",
           "#FF97FF",
           "#FECB52"
          ],
          "font": {
           "color": "#2a3f5f"
          },
          "geo": {
           "bgcolor": "white",
           "lakecolor": "white",
           "landcolor": "white",
           "showlakes": true,
           "showland": true,
           "subunitcolor": "#C8D4E3"
          },
          "hoverlabel": {
           "align": "left"
          },
          "hovermode": "closest",
          "mapbox": {
           "style": "light"
          },
          "paper_bgcolor": "white",
          "plot_bgcolor": "white",
          "polar": {
           "angularaxis": {
            "gridcolor": "#EBF0F8",
            "linecolor": "#EBF0F8",
            "ticks": ""
           },
           "bgcolor": "white",
           "radialaxis": {
            "gridcolor": "#EBF0F8",
            "linecolor": "#EBF0F8",
            "ticks": ""
           }
          },
          "scene": {
           "xaxis": {
            "backgroundcolor": "white",
            "gridcolor": "#DFE8F3",
            "gridwidth": 2,
            "linecolor": "#EBF0F8",
            "showbackground": true,
            "ticks": "",
            "zerolinecolor": "#EBF0F8"
           },
           "yaxis": {
            "backgroundcolor": "white",
            "gridcolor": "#DFE8F3",
            "gridwidth": 2,
            "linecolor": "#EBF0F8",
            "showbackground": true,
            "ticks": "",
            "zerolinecolor": "#EBF0F8"
           },
           "zaxis": {
            "backgroundcolor": "white",
            "gridcolor": "#DFE8F3",
            "gridwidth": 2,
            "linecolor": "#EBF0F8",
            "showbackground": true,
            "ticks": "",
            "zerolinecolor": "#EBF0F8"
           }
          },
          "shapedefaults": {
           "line": {
            "color": "#2a3f5f"
           }
          },
          "ternary": {
           "aaxis": {
            "gridcolor": "#DFE8F3",
            "linecolor": "#A2B1C6",
            "ticks": ""
           },
           "baxis": {
            "gridcolor": "#DFE8F3",
            "linecolor": "#A2B1C6",
            "ticks": ""
           },
           "bgcolor": "white",
           "caxis": {
            "gridcolor": "#DFE8F3",
            "linecolor": "#A2B1C6",
            "ticks": ""
           }
          },
          "title": {
           "x": 0.05
          },
          "xaxis": {
           "automargin": true,
           "gridcolor": "#EBF0F8",
           "linecolor": "#EBF0F8",
           "ticks": "",
           "title": {
            "standoff": 15
           },
           "zerolinecolor": "#EBF0F8",
           "zerolinewidth": 2
          },
          "yaxis": {
           "automargin": true,
           "gridcolor": "#EBF0F8",
           "linecolor": "#EBF0F8",
           "ticks": "",
           "title": {
            "standoff": 15
           },
           "zerolinecolor": "#EBF0F8",
           "zerolinewidth": 2
          }
         }
        },
        "shapes": [
         {
          "fillcolor": "LightGray",
          "layer": "below",
          "line": {
           "width": 0
          },
          "opacity": 0.3,
          "type": "rect",
          "x0": 0,
          "x1": 30,
          "xref": "x",
          "y0": 0,
          "y1": 1,
          "yref": "y domain"
         },
         {
          "layer": "below",
          "line": {
           "color": "white",
           "dash": "dot",
           "width": 2
          },
          "type": "line",
          "x0": 10,
          "x1": 10,
          "xref": "x",
          "y0": 0,
          "y1": 1,
          "yref": "y domain"
         },
         {
          "layer": "below",
          "line": {
           "color": "white",
           "dash": "dot",
           "width": 2
          },
          "type": "line",
          "x0": 20,
          "x1": 20,
          "xref": "x",
          "y0": 0,
          "y1": 1,
          "yref": "y domain"
         },
         {
          "line": {
           "color": "green",
           "dash": "dot",
           "width": 2
          },
          "type": "line",
          "x0": 0,
          "x1": 1,
          "xref": "x domain",
          "y0": 135.0,
          "y1": 135.0,
          "yref": "y"
         },
         {
          "line": {
           "color": "green",
           "dash": "dot",
           "width": 2
          },
          "type": "line",
          "x0": 0,
          "x1": 1,
          "xref": "x domain",
          "y0": 146.0,
          "y1": 146.0,
          "yref": "y"
         },
         {
          "fillcolor": "rgba(102,194,165,0.15)",
          "layer": "below",
          "line": {
           "width": 0
          },
          "opacity": 0.2,
          "type": "rect",
          "x0": 0,
          "x1": 1,
          "xref": "x domain",
          "y0": 139.79,
          "y1": 141.54999999999998,
          "yref": "y"
         },
         {
          "fillcolor": "rgba(252,141,98,0.15)",
          "layer": "below",
          "line": {
           "width": 0
          },
          "opacity": 0.2,
          "type": "rect",
          "x0": 0,
          "x1": 1,
          "xref": "x domain",
          "y0": 141.42,
          "y1": 142.58,
          "yref": "y"
         },
         {
          "fillcolor": "rgba(141,160,203,0.15)",
          "layer": "below",
          "line": {
           "width": 0
          },
          "opacity": 0.2,
          "type": "rect",
          "x0": 0,
          "x1": 1,
          "xref": "x domain",
          "y0": 138.33999999999997,
          "y1": 139.0,
          "yref": "y"
         },
         {
          "fillcolor": "rgba(231,138,195,0.15)",
          "layer": "below",
          "line": {
           "width": 0
          },
          "opacity": 0.2,
          "type": "rect",
          "x0": 0,
          "x1": 1,
          "xref": "x domain",
          "y0": 138.79,
          "y1": 140.54999999999998,
          "yref": "y"
         },
         {
          "fillcolor": "rgba(102,194,165,0.15)",
          "layer": "below",
          "line": {
           "width": 0
          },
          "opacity": 0.2,
          "type": "rect",
          "x0": 0,
          "x1": 1,
          "xref": "x domain",
          "y0": 139.79,
          "y1": 141.54999999999998,
          "yref": "y"
         },
         {
          "fillcolor": "rgba(252,141,98,0.15)",
          "layer": "below",
          "line": {
           "width": 0
          },
          "opacity": 0.2,
          "type": "rect",
          "x0": 0,
          "x1": 1,
          "xref": "x domain",
          "y0": 141.42,
          "y1": 142.58,
          "yref": "y"
         },
         {
          "fillcolor": "rgba(141,160,203,0.15)",
          "layer": "below",
          "line": {
           "width": 0
          },
          "opacity": 0.2,
          "type": "rect",
          "x0": 0,
          "x1": 1,
          "xref": "x domain",
          "y0": 138.33999999999997,
          "y1": 139.0,
          "yref": "y"
         },
         {
          "fillcolor": "rgba(231,138,195,0.15)",
          "layer": "below",
          "line": {
           "width": 0
          },
          "opacity": 0.2,
          "type": "rect",
          "x0": 0,
          "x1": 1,
          "xref": "x domain",
          "y0": 138.79,
          "y1": 140.54999999999998,
          "yref": "y"
         },
         {
          "fillcolor": "rgba(102,194,165,0.15)",
          "layer": "below",
          "line": {
           "width": 0
          },
          "opacity": 0.2,
          "type": "rect",
          "x0": 0,
          "x1": 1,
          "xref": "x domain",
          "y0": 139.79,
          "y1": 141.54999999999998,
          "yref": "y"
         },
         {
          "fillcolor": "rgba(252,141,98,0.15)",
          "layer": "below",
          "line": {
           "width": 0
          },
          "opacity": 0.2,
          "type": "rect",
          "x0": 0,
          "x1": 1,
          "xref": "x domain",
          "y0": 141.42,
          "y1": 142.58,
          "yref": "y"
         },
         {
          "fillcolor": "rgba(141,160,203,0.15)",
          "layer": "below",
          "line": {
           "width": 0
          },
          "opacity": 0.2,
          "type": "rect",
          "x0": 0,
          "x1": 1,
          "xref": "x domain",
          "y0": 138.33999999999997,
          "y1": 139.0,
          "yref": "y"
         },
         {
          "fillcolor": "rgba(231,138,195,0.15)",
          "layer": "below",
          "line": {
           "width": 0
          },
          "opacity": 0.2,
          "type": "rect",
          "x0": 0,
          "x1": 1,
          "xref": "x domain",
          "y0": 138.79,
          "y1": 140.54999999999998,
          "yref": "y"
         },
         {
          "fillcolor": "rgba(102,194,165,0.15)",
          "layer": "below",
          "line": {
           "width": 0
          },
          "opacity": 0.2,
          "type": "rect",
          "x0": 0,
          "x1": 1,
          "xref": "x domain",
          "y0": 139.79,
          "y1": 141.54999999999998,
          "yref": "y"
         },
         {
          "fillcolor": "rgba(252,141,98,0.15)",
          "layer": "below",
          "line": {
           "width": 0
          },
          "opacity": 0.2,
          "type": "rect",
          "x0": 0,
          "x1": 1,
          "xref": "x domain",
          "y0": 141.42,
          "y1": 142.58,
          "yref": "y"
         },
         {
          "fillcolor": "rgba(141,160,203,0.15)",
          "layer": "below",
          "line": {
           "width": 0
          },
          "opacity": 0.2,
          "type": "rect",
          "x0": 0,
          "x1": 1,
          "xref": "x domain",
          "y0": 138.33999999999997,
          "y1": 139.0,
          "yref": "y"
         },
         {
          "fillcolor": "rgba(231,138,195,0.15)",
          "layer": "below",
          "line": {
           "width": 0
          },
          "opacity": 0.2,
          "type": "rect",
          "x0": 0,
          "x1": 1,
          "xref": "x domain",
          "y0": 138.79,
          "y1": 140.54999999999998,
          "yref": "y"
         }
        ],
        "annotations": [
         {
          "showarrow": false,
          "text": "Min",
          "x": 1,
          "xanchor": "right",
          "xref": "x domain",
          "y": 135.0,
          "yanchor": "top",
          "yref": "y"
         },
         {
          "showarrow": false,
          "text": "Max",
          "x": 1,
          "xanchor": "right",
          "xref": "x domain",
          "y": 146.0,
          "yanchor": "bottom",
          "yref": "y"
         },
         {
          "font": {
           "color": "red",
           "size": 20
          },
          "showarrow": false,
          "text": "*",
          "x": 31,
          "y": 138.0,
          "yshift": 15
         },
         {
          "font": {
           "color": "red",
           "size": 20
          },
          "showarrow": false,
          "text": "*",
          "x": 31,
          "y": 137.0,
          "yshift": 15
         },
         {
          "font": {
           "color": "red",
           "size": 20
          },
          "showarrow": false,
          "text": "*",
          "x": 31,
          "y": 137.0,
          "yshift": 15
         },
         {
          "font": {
           "color": "red",
           "size": 20
          },
          "showarrow": false,
          "text": "*",
          "x": 31,
          "y": 138.0,
          "yshift": 15
         },
         {
          "font": {
           "color": "red",
           "size": 20
          },
          "showarrow": false,
          "text": "*",
          "x": 31,
          "y": 137.0,
          "yshift": 15
         },
         {
          "font": {
           "color": "red",
           "size": 20
          },
          "showarrow": false,
          "text": "*",
          "x": 31,
          "y": 137.0,
          "yshift": 15
         },
         {
          "font": {
           "color": "red",
           "size": 20
          },
          "showarrow": false,
          "text": "*",
          "x": 31,
          "y": 138.0,
          "yshift": 15
         },
         {
          "font": {
           "color": "red",
           "size": 20
          },
          "showarrow": false,
          "text": "*",
          "x": 31,
          "y": 137.0,
          "yshift": 15
         },
         {
          "font": {
           "color": "red",
           "size": 20
          },
          "showarrow": false,
          "text": "*",
          "x": 31,
          "y": 137.0,
          "yshift": 15
         },
         {
          "font": {
           "color": "red",
           "size": 20
          },
          "showarrow": false,
          "text": "*",
          "x": 31,
          "y": 138.0,
          "yshift": 15
         },
         {
          "font": {
           "color": "red",
           "size": 20
          },
          "showarrow": false,
          "text": "*",
          "x": 31,
          "y": 137.0,
          "yshift": 15
         },
         {
          "font": {
           "color": "red",
           "size": 20
          },
          "showarrow": false,
          "text": "*",
          "x": 31,
          "y": 137.0,
          "yshift": 15
         }
        ],
        "yaxis": {
         "title": {
          "text": "Sodium (mmol/L)"
         },
         "range": [
          121.5,
          160.60000000000002
         ]
        },
        "margin": {
         "l": 60,
         "r": 30,
         "t": 60,
         "b": 60
        },
        "title": {
         "text": "Sodium (mmol/L) Trends (All Participants)"
        },
        "xaxis": {
         "title": {
          "text": "Mission Day"
         },
         "tickmode": "array",
         "tickvals": [
          -92,
          -44,
          -3,
          31,
          75,
          112,
          224
         ],
         "ticktext": [
          "L-92",
          "L-44",
          "L-3",
          "R+1",
          "R+45",
          "R+82",
          "R+194"
         ]
        },
        "legend": {
         "title": {
          "text": "Participant / Analyte"
         }
        },
        "hovermode": "x unified"
       },
       "config": {
        "plotlyServerURL": "https://plot.ly"
       }
      }
     },
     "metadata": {},
     "output_type": "display_data"
    }
   ],
   "execution_count": 3
  },
  {
   "metadata": {},
   "cell_type": "markdown",
   "source": [
    "## Putting it all together\n",
    "\n",
    "As documented in `main.py` we can now run querries for whatever we want from the command line."
   ]
  },
  {
   "metadata": {
    "ExecuteTime": {
     "end_time": "2025-09-30T07:02:46.581035Z",
     "start_time": "2025-09-30T07:02:13.896964Z"
    }
   },
   "cell_type": "code",
   "source": "%run main.py",
   "outputs": [
    {
     "name": "stdout",
     "output_type": "stream",
     "text": [
      "Available datasets:\n",
      "  [0] Metabolic_Panel.csv\n",
      "  [1] Serum_Cardiovascular.csv\n",
      "\n",
      "Available analytes: albumin, alkaline_phosphatase, alt, ast, total_bilirubin, bun_to_creatinine_ratio, calcium, carbon_dioxide, chloride, creatinine, egfr_african_american, egfr_non_african_american, globulin, glucose, potassium, total_protein, sodium, urea_nitrogen_bun\n",
      "\n",
      "Available astronauts: C001, C002, C003, C004\n",
      "Options: 'All', 'Male', 'Female', or a comma-separated subset (e.g. C001,C002)\n",
      "\n",
      "Loading final_data\\Metabolic_Panel.csv ...\n",
      "Generating figure for analytes: ['sodium']\n",
      "\n",
      "Plotting sodium ...\n"
     ]
    },
    {
     "data": {
      "application/vnd.plotly.v1+json": {
       "data": [
        {
         "hovertemplate": "Day %{hovertext}<br>Value %{y}<extra></extra>",
         "hovertext": [
          "L-92",
          "L-44",
          "L-3",
          "R+1",
          "R+45",
          "R+82",
          "R+194"
         ],
         "line": {
          "color": "rgb(102,194,165)"
         },
         "marker": {
          "color": "rgb(102,194,165)"
         },
         "mode": "lines+markers",
         "name": "C001 (sodium)",
         "x": {
          "dtype": "i2",
          "bdata": "pP/U//3/HwBLAHAA4AA="
         },
         "y": {
          "dtype": "f8",
          "bdata": "AAAAAACgYUAAAAAAAGBhQAAAAAAAwGFAAAAAAABAYUAAAAAAAEBhQAAAAAAAgGFAAAAAAAAgYUA="
         },
         "type": "scatter"
        },
        {
         "hovertemplate": "Day %{hovertext}<br>Value %{y}<extra></extra>",
         "hovertext": [
          "L-92",
          "L-44",
          "L-3",
          "R+1",
          "R+45",
          "R+82",
          "R+194"
         ],
         "line": {
          "color": "rgb(252,141,98)"
         },
         "marker": {
          "color": "rgb(252,141,98)"
         },
         "mode": "lines+markers",
         "name": "C002 (sodium)",
         "x": {
          "dtype": "i2",
          "bdata": "pP/U//3/HwBLAHAA4AA="
         },
         "y": {
          "dtype": "f8",
          "bdata": "AAAAAADAYUAAAAAAAKBhQAAAAAAA4GFAAAAAAAAgYUAAAAAAAIBhQAAAAAAAoGFAAAAAAABAYUA="
         },
         "type": "scatter"
        },
        {
         "hovertemplate": "Day %{hovertext}<br>Value %{y}<extra></extra>",
         "hovertext": [
          "L-92",
          "L-44",
          "L-3",
          "R+1",
          "R+45",
          "R+82",
          "R+194"
         ],
         "line": {
          "color": "rgb(141,160,203)"
         },
         "marker": {
          "color": "rgb(141,160,203)"
         },
         "mode": "lines+markers",
         "name": "C003 (sodium)",
         "x": {
          "dtype": "i2",
          "bdata": "pP/U//3/HwBLAHAA4AA="
         },
         "y": {
          "dtype": "f8",
          "bdata": "AAAAAABgYUAAAAAAAGBhQAAAAAAAQGFAAAAAAAAgYUAAAAAAAABhQAAAAAAAQGFAAAAAAAAgYUA="
         },
         "type": "scatter"
        },
        {
         "hovertemplate": "Day %{hovertext}<br>Value %{y}<extra></extra>",
         "hovertext": [
          "L-92",
          "L-44",
          "L-3",
          "R+1",
          "R+45",
          "R+82",
          "R+194"
         ],
         "line": {
          "color": "rgb(231,138,195)"
         },
         "marker": {
          "color": "rgb(231,138,195)"
         },
         "mode": "lines+markers",
         "name": "C004 (sodium)",
         "x": {
          "dtype": "i2",
          "bdata": "pP/U//3/HwBLAHAA4AA="
         },
         "y": {
          "dtype": "f8",
          "bdata": "AAAAAABAYUAAAAAAAIBhQAAAAAAAoGFAAAAAAACAYUAAAAAAAGBhQAAAAAAAgGFAAAAAAACgYUA="
         },
         "type": "scatter"
        }
       ],
       "layout": {
        "template": {
         "data": {
          "barpolar": [
           {
            "marker": {
             "line": {
              "color": "white",
              "width": 0.5
             },
             "pattern": {
              "fillmode": "overlay",
              "size": 10,
              "solidity": 0.2
             }
            },
            "type": "barpolar"
           }
          ],
          "bar": [
           {
            "error_x": {
             "color": "#2a3f5f"
            },
            "error_y": {
             "color": "#2a3f5f"
            },
            "marker": {
             "line": {
              "color": "white",
              "width": 0.5
             },
             "pattern": {
              "fillmode": "overlay",
              "size": 10,
              "solidity": 0.2
             }
            },
            "type": "bar"
           }
          ],
          "carpet": [
           {
            "aaxis": {
             "endlinecolor": "#2a3f5f",
             "gridcolor": "#C8D4E3",
             "linecolor": "#C8D4E3",
             "minorgridcolor": "#C8D4E3",
             "startlinecolor": "#2a3f5f"
            },
            "baxis": {
             "endlinecolor": "#2a3f5f",
             "gridcolor": "#C8D4E3",
             "linecolor": "#C8D4E3",
             "minorgridcolor": "#C8D4E3",
             "startlinecolor": "#2a3f5f"
            },
            "type": "carpet"
           }
          ],
          "choropleth": [
           {
            "colorbar": {
             "outlinewidth": 0,
             "ticks": ""
            },
            "type": "choropleth"
           }
          ],
          "contourcarpet": [
           {
            "colorbar": {
             "outlinewidth": 0,
             "ticks": ""
            },
            "type": "contourcarpet"
           }
          ],
          "contour": [
           {
            "colorbar": {
             "outlinewidth": 0,
             "ticks": ""
            },
            "colorscale": [
             [
              0.0,
              "#0d0887"
             ],
             [
              0.1111111111111111,
              "#46039f"
             ],
             [
              0.2222222222222222,
              "#7201a8"
             ],
             [
              0.3333333333333333,
              "#9c179e"
             ],
             [
              0.4444444444444444,
              "#bd3786"
             ],
             [
              0.5555555555555556,
              "#d8576b"
             ],
             [
              0.6666666666666666,
              "#ed7953"
             ],
             [
              0.7777777777777778,
              "#fb9f3a"
             ],
             [
              0.8888888888888888,
              "#fdca26"
             ],
             [
              1.0,
              "#f0f921"
             ]
            ],
            "type": "contour"
           }
          ],
          "heatmap": [
           {
            "colorbar": {
             "outlinewidth": 0,
             "ticks": ""
            },
            "colorscale": [
             [
              0.0,
              "#0d0887"
             ],
             [
              0.1111111111111111,
              "#46039f"
             ],
             [
              0.2222222222222222,
              "#7201a8"
             ],
             [
              0.3333333333333333,
              "#9c179e"
             ],
             [
              0.4444444444444444,
              "#bd3786"
             ],
             [
              0.5555555555555556,
              "#d8576b"
             ],
             [
              0.6666666666666666,
              "#ed7953"
             ],
             [
              0.7777777777777778,
              "#fb9f3a"
             ],
             [
              0.8888888888888888,
              "#fdca26"
             ],
             [
              1.0,
              "#f0f921"
             ]
            ],
            "type": "heatmap"
           }
          ],
          "histogram2dcontour": [
           {
            "colorbar": {
             "outlinewidth": 0,
             "ticks": ""
            },
            "colorscale": [
             [
              0.0,
              "#0d0887"
             ],
             [
              0.1111111111111111,
              "#46039f"
             ],
             [
              0.2222222222222222,
              "#7201a8"
             ],
             [
              0.3333333333333333,
              "#9c179e"
             ],
             [
              0.4444444444444444,
              "#bd3786"
             ],
             [
              0.5555555555555556,
              "#d8576b"
             ],
             [
              0.6666666666666666,
              "#ed7953"
             ],
             [
              0.7777777777777778,
              "#fb9f3a"
             ],
             [
              0.8888888888888888,
              "#fdca26"
             ],
             [
              1.0,
              "#f0f921"
             ]
            ],
            "type": "histogram2dcontour"
           }
          ],
          "histogram2d": [
           {
            "colorbar": {
             "outlinewidth": 0,
             "ticks": ""
            },
            "colorscale": [
             [
              0.0,
              "#0d0887"
             ],
             [
              0.1111111111111111,
              "#46039f"
             ],
             [
              0.2222222222222222,
              "#7201a8"
             ],
             [
              0.3333333333333333,
              "#9c179e"
             ],
             [
              0.4444444444444444,
              "#bd3786"
             ],
             [
              0.5555555555555556,
              "#d8576b"
             ],
             [
              0.6666666666666666,
              "#ed7953"
             ],
             [
              0.7777777777777778,
              "#fb9f3a"
             ],
             [
              0.8888888888888888,
              "#fdca26"
             ],
             [
              1.0,
              "#f0f921"
             ]
            ],
            "type": "histogram2d"
           }
          ],
          "histogram": [
           {
            "marker": {
             "pattern": {
              "fillmode": "overlay",
              "size": 10,
              "solidity": 0.2
             }
            },
            "type": "histogram"
           }
          ],
          "mesh3d": [
           {
            "colorbar": {
             "outlinewidth": 0,
             "ticks": ""
            },
            "type": "mesh3d"
           }
          ],
          "parcoords": [
           {
            "line": {
             "colorbar": {
              "outlinewidth": 0,
              "ticks": ""
             }
            },
            "type": "parcoords"
           }
          ],
          "pie": [
           {
            "automargin": true,
            "type": "pie"
           }
          ],
          "scatter3d": [
           {
            "line": {
             "colorbar": {
              "outlinewidth": 0,
              "ticks": ""
             }
            },
            "marker": {
             "colorbar": {
              "outlinewidth": 0,
              "ticks": ""
             }
            },
            "type": "scatter3d"
           }
          ],
          "scattercarpet": [
           {
            "marker": {
             "colorbar": {
              "outlinewidth": 0,
              "ticks": ""
             }
            },
            "type": "scattercarpet"
           }
          ],
          "scattergeo": [
           {
            "marker": {
             "colorbar": {
              "outlinewidth": 0,
              "ticks": ""
             }
            },
            "type": "scattergeo"
           }
          ],
          "scattergl": [
           {
            "marker": {
             "colorbar": {
              "outlinewidth": 0,
              "ticks": ""
             }
            },
            "type": "scattergl"
           }
          ],
          "scattermapbox": [
           {
            "marker": {
             "colorbar": {
              "outlinewidth": 0,
              "ticks": ""
             }
            },
            "type": "scattermapbox"
           }
          ],
          "scattermap": [
           {
            "marker": {
             "colorbar": {
              "outlinewidth": 0,
              "ticks": ""
             }
            },
            "type": "scattermap"
           }
          ],
          "scatterpolargl": [
           {
            "marker": {
             "colorbar": {
              "outlinewidth": 0,
              "ticks": ""
             }
            },
            "type": "scatterpolargl"
           }
          ],
          "scatterpolar": [
           {
            "marker": {
             "colorbar": {
              "outlinewidth": 0,
              "ticks": ""
             }
            },
            "type": "scatterpolar"
           }
          ],
          "scatter": [
           {
            "fillpattern": {
             "fillmode": "overlay",
             "size": 10,
             "solidity": 0.2
            },
            "type": "scatter"
           }
          ],
          "scatterternary": [
           {
            "marker": {
             "colorbar": {
              "outlinewidth": 0,
              "ticks": ""
             }
            },
            "type": "scatterternary"
           }
          ],
          "surface": [
           {
            "colorbar": {
             "outlinewidth": 0,
             "ticks": ""
            },
            "colorscale": [
             [
              0.0,
              "#0d0887"
             ],
             [
              0.1111111111111111,
              "#46039f"
             ],
             [
              0.2222222222222222,
              "#7201a8"
             ],
             [
              0.3333333333333333,
              "#9c179e"
             ],
             [
              0.4444444444444444,
              "#bd3786"
             ],
             [
              0.5555555555555556,
              "#d8576b"
             ],
             [
              0.6666666666666666,
              "#ed7953"
             ],
             [
              0.7777777777777778,
              "#fb9f3a"
             ],
             [
              0.8888888888888888,
              "#fdca26"
             ],
             [
              1.0,
              "#f0f921"
             ]
            ],
            "type": "surface"
           }
          ],
          "table": [
           {
            "cells": {
             "fill": {
              "color": "#EBF0F8"
             },
             "line": {
              "color": "white"
             }
            },
            "header": {
             "fill": {
              "color": "#C8D4E3"
             },
             "line": {
              "color": "white"
             }
            },
            "type": "table"
           }
          ]
         },
         "layout": {
          "annotationdefaults": {
           "arrowcolor": "#2a3f5f",
           "arrowhead": 0,
           "arrowwidth": 1
          },
          "autotypenumbers": "strict",
          "coloraxis": {
           "colorbar": {
            "outlinewidth": 0,
            "ticks": ""
           }
          },
          "colorscale": {
           "diverging": [
            [
             0,
             "#8e0152"
            ],
            [
             0.1,
             "#c51b7d"
            ],
            [
             0.2,
             "#de77ae"
            ],
            [
             0.3,
             "#f1b6da"
            ],
            [
             0.4,
             "#fde0ef"
            ],
            [
             0.5,
             "#f7f7f7"
            ],
            [
             0.6,
             "#e6f5d0"
            ],
            [
             0.7,
             "#b8e186"
            ],
            [
             0.8,
             "#7fbc41"
            ],
            [
             0.9,
             "#4d9221"
            ],
            [
             1,
             "#276419"
            ]
           ],
           "sequential": [
            [
             0.0,
             "#0d0887"
            ],
            [
             0.1111111111111111,
             "#46039f"
            ],
            [
             0.2222222222222222,
             "#7201a8"
            ],
            [
             0.3333333333333333,
             "#9c179e"
            ],
            [
             0.4444444444444444,
             "#bd3786"
            ],
            [
             0.5555555555555556,
             "#d8576b"
            ],
            [
             0.6666666666666666,
             "#ed7953"
            ],
            [
             0.7777777777777778,
             "#fb9f3a"
            ],
            [
             0.8888888888888888,
             "#fdca26"
            ],
            [
             1.0,
             "#f0f921"
            ]
           ],
           "sequentialminus": [
            [
             0.0,
             "#0d0887"
            ],
            [
             0.1111111111111111,
             "#46039f"
            ],
            [
             0.2222222222222222,
             "#7201a8"
            ],
            [
             0.3333333333333333,
             "#9c179e"
            ],
            [
             0.4444444444444444,
             "#bd3786"
            ],
            [
             0.5555555555555556,
             "#d8576b"
            ],
            [
             0.6666666666666666,
             "#ed7953"
            ],
            [
             0.7777777777777778,
             "#fb9f3a"
            ],
            [
             0.8888888888888888,
             "#fdca26"
            ],
            [
             1.0,
             "#f0f921"
            ]
           ]
          },
          "colorway": [
           "#636efa",
           "#EF553B",
           "#00cc96",
           "#ab63fa",
           "#FFA15A",
           "#19d3f3",
           "#FF6692",
           "#B6E880",
           "#FF97FF",
           "#FECB52"
          ],
          "font": {
           "color": "#2a3f5f"
          },
          "geo": {
           "bgcolor": "white",
           "lakecolor": "white",
           "landcolor": "white",
           "showlakes": true,
           "showland": true,
           "subunitcolor": "#C8D4E3"
          },
          "hoverlabel": {
           "align": "left"
          },
          "hovermode": "closest",
          "mapbox": {
           "style": "light"
          },
          "paper_bgcolor": "white",
          "plot_bgcolor": "white",
          "polar": {
           "angularaxis": {
            "gridcolor": "#EBF0F8",
            "linecolor": "#EBF0F8",
            "ticks": ""
           },
           "bgcolor": "white",
           "radialaxis": {
            "gridcolor": "#EBF0F8",
            "linecolor": "#EBF0F8",
            "ticks": ""
           }
          },
          "scene": {
           "xaxis": {
            "backgroundcolor": "white",
            "gridcolor": "#DFE8F3",
            "gridwidth": 2,
            "linecolor": "#EBF0F8",
            "showbackground": true,
            "ticks": "",
            "zerolinecolor": "#EBF0F8"
           },
           "yaxis": {
            "backgroundcolor": "white",
            "gridcolor": "#DFE8F3",
            "gridwidth": 2,
            "linecolor": "#EBF0F8",
            "showbackground": true,
            "ticks": "",
            "zerolinecolor": "#EBF0F8"
           },
           "zaxis": {
            "backgroundcolor": "white",
            "gridcolor": "#DFE8F3",
            "gridwidth": 2,
            "linecolor": "#EBF0F8",
            "showbackground": true,
            "ticks": "",
            "zerolinecolor": "#EBF0F8"
           }
          },
          "shapedefaults": {
           "line": {
            "color": "#2a3f5f"
           }
          },
          "ternary": {
           "aaxis": {
            "gridcolor": "#DFE8F3",
            "linecolor": "#A2B1C6",
            "ticks": ""
           },
           "baxis": {
            "gridcolor": "#DFE8F3",
            "linecolor": "#A2B1C6",
            "ticks": ""
           },
           "bgcolor": "white",
           "caxis": {
            "gridcolor": "#DFE8F3",
            "linecolor": "#A2B1C6",
            "ticks": ""
           }
          },
          "title": {
           "x": 0.05
          },
          "xaxis": {
           "automargin": true,
           "gridcolor": "#EBF0F8",
           "linecolor": "#EBF0F8",
           "ticks": "",
           "title": {
            "standoff": 15
           },
           "zerolinecolor": "#EBF0F8",
           "zerolinewidth": 2
          },
          "yaxis": {
           "automargin": true,
           "gridcolor": "#EBF0F8",
           "linecolor": "#EBF0F8",
           "ticks": "",
           "title": {
            "standoff": 15
           },
           "zerolinecolor": "#EBF0F8",
           "zerolinewidth": 2
          }
         }
        },
        "shapes": [
         {
          "fillcolor": "LightGray",
          "layer": "below",
          "line": {
           "width": 0
          },
          "opacity": 0.3,
          "type": "rect",
          "x0": 0,
          "x1": 30,
          "xref": "x",
          "y0": 0,
          "y1": 1,
          "yref": "y domain"
         },
         {
          "layer": "below",
          "line": {
           "color": "white",
           "dash": "dot",
           "width": 2
          },
          "type": "line",
          "x0": 10,
          "x1": 10,
          "xref": "x",
          "y0": 0,
          "y1": 1,
          "yref": "y domain"
         },
         {
          "layer": "below",
          "line": {
           "color": "white",
           "dash": "dot",
           "width": 2
          },
          "type": "line",
          "x0": 20,
          "x1": 20,
          "xref": "x",
          "y0": 0,
          "y1": 1,
          "yref": "y domain"
         },
         {
          "line": {
           "color": "green",
           "dash": "dot",
           "width": 2
          },
          "type": "line",
          "x0": 0,
          "x1": 1,
          "xref": "x domain",
          "y0": 135.0,
          "y1": 135.0,
          "yref": "y"
         },
         {
          "line": {
           "color": "green",
           "dash": "dot",
           "width": 2
          },
          "type": "line",
          "x0": 0,
          "x1": 1,
          "xref": "x domain",
          "y0": 146.0,
          "y1": 146.0,
          "yref": "y"
         },
         {
          "fillcolor": "rgba(102,194,165,0.15)",
          "layer": "below",
          "line": {
           "width": 0
          },
          "opacity": 0.2,
          "type": "rect",
          "x0": 0,
          "x1": 1,
          "xref": "x domain",
          "y0": 139.79,
          "y1": 141.54999999999998,
          "yref": "y"
         },
         {
          "fillcolor": "rgba(252,141,98,0.15)",
          "layer": "below",
          "line": {
           "width": 0
          },
          "opacity": 0.2,
          "type": "rect",
          "x0": 0,
          "x1": 1,
          "xref": "x domain",
          "y0": 141.42,
          "y1": 142.58,
          "yref": "y"
         },
         {
          "fillcolor": "rgba(141,160,203,0.15)",
          "layer": "below",
          "line": {
           "width": 0
          },
          "opacity": 0.2,
          "type": "rect",
          "x0": 0,
          "x1": 1,
          "xref": "x domain",
          "y0": 138.33999999999997,
          "y1": 139.0,
          "yref": "y"
         },
         {
          "fillcolor": "rgba(231,138,195,0.15)",
          "layer": "below",
          "line": {
           "width": 0
          },
          "opacity": 0.2,
          "type": "rect",
          "x0": 0,
          "x1": 1,
          "xref": "x domain",
          "y0": 138.79,
          "y1": 140.54999999999998,
          "yref": "y"
         },
         {
          "fillcolor": "rgba(102,194,165,0.15)",
          "layer": "below",
          "line": {
           "width": 0
          },
          "opacity": 0.2,
          "type": "rect",
          "x0": 0,
          "x1": 1,
          "xref": "x domain",
          "y0": 139.79,
          "y1": 141.54999999999998,
          "yref": "y"
         },
         {
          "fillcolor": "rgba(252,141,98,0.15)",
          "layer": "below",
          "line": {
           "width": 0
          },
          "opacity": 0.2,
          "type": "rect",
          "x0": 0,
          "x1": 1,
          "xref": "x domain",
          "y0": 141.42,
          "y1": 142.58,
          "yref": "y"
         },
         {
          "fillcolor": "rgba(141,160,203,0.15)",
          "layer": "below",
          "line": {
           "width": 0
          },
          "opacity": 0.2,
          "type": "rect",
          "x0": 0,
          "x1": 1,
          "xref": "x domain",
          "y0": 138.33999999999997,
          "y1": 139.0,
          "yref": "y"
         },
         {
          "fillcolor": "rgba(231,138,195,0.15)",
          "layer": "below",
          "line": {
           "width": 0
          },
          "opacity": 0.2,
          "type": "rect",
          "x0": 0,
          "x1": 1,
          "xref": "x domain",
          "y0": 138.79,
          "y1": 140.54999999999998,
          "yref": "y"
         },
         {
          "fillcolor": "rgba(102,194,165,0.15)",
          "layer": "below",
          "line": {
           "width": 0
          },
          "opacity": 0.2,
          "type": "rect",
          "x0": 0,
          "x1": 1,
          "xref": "x domain",
          "y0": 139.79,
          "y1": 141.54999999999998,
          "yref": "y"
         },
         {
          "fillcolor": "rgba(252,141,98,0.15)",
          "layer": "below",
          "line": {
           "width": 0
          },
          "opacity": 0.2,
          "type": "rect",
          "x0": 0,
          "x1": 1,
          "xref": "x domain",
          "y0": 141.42,
          "y1": 142.58,
          "yref": "y"
         },
         {
          "fillcolor": "rgba(141,160,203,0.15)",
          "layer": "below",
          "line": {
           "width": 0
          },
          "opacity": 0.2,
          "type": "rect",
          "x0": 0,
          "x1": 1,
          "xref": "x domain",
          "y0": 138.33999999999997,
          "y1": 139.0,
          "yref": "y"
         },
         {
          "fillcolor": "rgba(231,138,195,0.15)",
          "layer": "below",
          "line": {
           "width": 0
          },
          "opacity": 0.2,
          "type": "rect",
          "x0": 0,
          "x1": 1,
          "xref": "x domain",
          "y0": 138.79,
          "y1": 140.54999999999998,
          "yref": "y"
         },
         {
          "fillcolor": "rgba(102,194,165,0.15)",
          "layer": "below",
          "line": {
           "width": 0
          },
          "opacity": 0.2,
          "type": "rect",
          "x0": 0,
          "x1": 1,
          "xref": "x domain",
          "y0": 139.79,
          "y1": 141.54999999999998,
          "yref": "y"
         },
         {
          "fillcolor": "rgba(252,141,98,0.15)",
          "layer": "below",
          "line": {
           "width": 0
          },
          "opacity": 0.2,
          "type": "rect",
          "x0": 0,
          "x1": 1,
          "xref": "x domain",
          "y0": 141.42,
          "y1": 142.58,
          "yref": "y"
         },
         {
          "fillcolor": "rgba(141,160,203,0.15)",
          "layer": "below",
          "line": {
           "width": 0
          },
          "opacity": 0.2,
          "type": "rect",
          "x0": 0,
          "x1": 1,
          "xref": "x domain",
          "y0": 138.33999999999997,
          "y1": 139.0,
          "yref": "y"
         },
         {
          "fillcolor": "rgba(231,138,195,0.15)",
          "layer": "below",
          "line": {
           "width": 0
          },
          "opacity": 0.2,
          "type": "rect",
          "x0": 0,
          "x1": 1,
          "xref": "x domain",
          "y0": 138.79,
          "y1": 140.54999999999998,
          "yref": "y"
         }
        ],
        "annotations": [
         {
          "showarrow": false,
          "text": "Min",
          "x": 1,
          "xanchor": "right",
          "xref": "x domain",
          "y": 135.0,
          "yanchor": "top",
          "yref": "y"
         },
         {
          "showarrow": false,
          "text": "Max",
          "x": 1,
          "xanchor": "right",
          "xref": "x domain",
          "y": 146.0,
          "yanchor": "bottom",
          "yref": "y"
         },
         {
          "font": {
           "color": "red",
           "size": 20
          },
          "showarrow": false,
          "text": "*",
          "x": 31,
          "y": 138.0,
          "yshift": 15
         },
         {
          "font": {
           "color": "red",
           "size": 20
          },
          "showarrow": false,
          "text": "*",
          "x": 31,
          "y": 137.0,
          "yshift": 15
         },
         {
          "font": {
           "color": "red",
           "size": 20
          },
          "showarrow": false,
          "text": "*",
          "x": 31,
          "y": 137.0,
          "yshift": 15
         },
         {
          "font": {
           "color": "red",
           "size": 20
          },
          "showarrow": false,
          "text": "*",
          "x": 31,
          "y": 138.0,
          "yshift": 15
         },
         {
          "font": {
           "color": "red",
           "size": 20
          },
          "showarrow": false,
          "text": "*",
          "x": 31,
          "y": 137.0,
          "yshift": 15
         },
         {
          "font": {
           "color": "red",
           "size": 20
          },
          "showarrow": false,
          "text": "*",
          "x": 31,
          "y": 137.0,
          "yshift": 15
         },
         {
          "font": {
           "color": "red",
           "size": 20
          },
          "showarrow": false,
          "text": "*",
          "x": 31,
          "y": 138.0,
          "yshift": 15
         },
         {
          "font": {
           "color": "red",
           "size": 20
          },
          "showarrow": false,
          "text": "*",
          "x": 31,
          "y": 137.0,
          "yshift": 15
         },
         {
          "font": {
           "color": "red",
           "size": 20
          },
          "showarrow": false,
          "text": "*",
          "x": 31,
          "y": 137.0,
          "yshift": 15
         },
         {
          "font": {
           "color": "red",
           "size": 20
          },
          "showarrow": false,
          "text": "*",
          "x": 31,
          "y": 138.0,
          "yshift": 15
         },
         {
          "font": {
           "color": "red",
           "size": 20
          },
          "showarrow": false,
          "text": "*",
          "x": 31,
          "y": 137.0,
          "yshift": 15
         },
         {
          "font": {
           "color": "red",
           "size": 20
          },
          "showarrow": false,
          "text": "*",
          "x": 31,
          "y": 137.0,
          "yshift": 15
         }
        ],
        "yaxis": {
         "title": {
          "text": "Sodium (mmol/L)"
         },
         "range": [
          121.5,
          160.60000000000002
         ]
        },
        "margin": {
         "l": 60,
         "r": 30,
         "t": 60,
         "b": 60
        },
        "title": {
         "text": "Sodium (mmol/L) Trends (All Participants)"
        },
        "xaxis": {
         "title": {
          "text": "Mission Day"
         },
         "tickmode": "array",
         "tickvals": [
          -92,
          -44,
          -3,
          31,
          75,
          112,
          224
         ],
         "ticktext": [
          "L-92",
          "L-44",
          "L-3",
          "R+1",
          "R+45",
          "R+82",
          "R+194"
         ]
        },
        "legend": {
         "title": {
          "text": "Participant / Analyte"
         }
        },
        "hovermode": "x unified"
       },
       "config": {
        "plotlyServerURL": "https://plot.ly"
       }
      }
     },
     "metadata": {},
     "output_type": "display_data"
    }
   ],
   "execution_count": 6
  },
  {
   "metadata": {},
   "cell_type": "markdown",
   "source": [
    "## Run it as an App\n",
    "\n",
    "Deployed Via `app.py` at the appropriate [Hugging Face Website](https://huggingface.co/spaces/DTanzillo/Inspiration-Health-Data)."
   ]
  }
 ],
 "metadata": {
  "celltoolbar": "Create Assignment",
  "kernelspec": {
   "display_name": "Python XAI (myenv)",
   "language": "python",
   "name": "xaienv"
  },
  "language_info": {
   "codemirror_mode": {
    "name": "ipython",
    "version": 3
   },
   "file_extension": ".py",
   "mimetype": "text/x-python",
   "name": "python",
   "nbconvert_exporter": "python",
   "pygments_lexer": "ipython3",
   "version": "3.9.6"
  }
 },
 "nbformat": 4,
 "nbformat_minor": 4
}
