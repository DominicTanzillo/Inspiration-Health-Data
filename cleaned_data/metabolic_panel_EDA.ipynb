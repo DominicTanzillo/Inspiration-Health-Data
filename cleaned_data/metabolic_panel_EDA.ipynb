{
 "cells": [
  {
   "cell_type": "code",
   "execution_count": null,
   "id": "imports",
   "metadata": {},
   "outputs": [],
   "source": [
    "# imports\n",
    "import pandas as pd\n",
    "import matplotlib.pyplot as plt"
   ]
  },
  {
   "cell_type": "code",
   "execution_count": null,
   "id": "load-data",
   "metadata": {},
   "outputs": [],
   "source": [
    "# load data from metabolic panel csv\n",
    "df = pd.read_csv('LSDS-8_Comprehensive_Metabolic_Panel_CMP_TRANSFORMED_all_astronauts.csv')"
   ]
  },
  {
   "cell_type": "code",
   "execution_count": null,
   "id": "missing-values-before",
   "metadata": {},
   "outputs": [],
   "source": [
    "# check for missing values\n",
    "missing = df.isnull().sum()\n",
    "missing = missing[missing > 0]\n",
    "missing"
   ]
  },
  {
   "cell_type": "markdown",
   "id": "missing-treatment",
   "metadata": {},
   "source": [
    "## Treating Missing Values by Imputing or Dropping"
   ]
  },
  {
   "cell_type": "code",
   "execution_count": null,
   "id": "fill-bilirubin",
   "metadata": {},
   "outputs": [],
   "source": [
    "# bilirubin values can be skewed, so median is more robust than mean\n",
    "df[\"total_bilirubin_value_milligram_per_deciliter\"] = df[\"total_bilirubin_value_milligram_per_deciliter\"].fillna(\n",
    "    df[\"total_bilirubin_value_milligram_per_deciliter\"].median()\n",
    ")"
   ]
  },
  {
   "cell_type": "code",
   "execution_count": null,
   "id": "fill-bun",
   "metadata": {},
   "outputs": [],
   "source": [
    "# do we drop this? 22/28 are missing → impute with median for now\n",
    "df[\"bun_to_creatinine_ratio_value\"] = df[\"bun_to_creatinine_ratio_value\"].fillna(\n",
    "    df[\"bun_to_creatinine_ratio_value\"].median()\n",
    ")\n",
    "\n",
    "# values can be skewed, so median is more robust\n",
    "df[\"bun_to_creatinine_ratio_range_min\"] = df[\"bun_to_creatinine_ratio_range_min\"].fillna(\n",
    "    df[\"bun_to_creatinine_ratio_range_min\"].median()\n",
    ")\n",
    "\n",
    "df[\"bun_to_creatinine_ratio_range_max\"] = df[\"bun_to_creatinine_ratio_range_max\"].fillna(\n",
    "    df[\"bun_to_creatinine_ratio_range_max\"].median()\n",
    ")"
   ]
  },
  {
   "cell_type": "code",
   "execution_count": null,
   "id": "drop-egfr",
   "metadata": {},
   "outputs": [],
   "source": [
    "# drop empty columns\n",
    "df = df.drop(\n",
    "    columns=[\n",
    "        \"egfr_african_american_range_max_milliliter_per_minute_per_1.73_meter_squared\",\n",
    "        \"egfr_non_african_american_range_max_milliliter_per_minute_per_1.73_meter_squared\"\n",
    "    ],\n",
    "    errors=\"ignore\"\n",
    ")"
   ]
  },
  {
   "cell_type": "code",
   "execution_count": null,
   "id": "missing-values-after",
   "metadata": {},
   "outputs": [],
   "source": [
    "# check again for missing values\n",
    "missing = df.isnull().sum()\n",
    "missing = missing[missing > 0]\n",
    "missing"
   ]
  },
  {
   "cell_type": "code",
   "execution_count": null,
   "id": "save-cleaned",
   "metadata": {},
   "outputs": [],
   "source": [
    "# save cleaned data\n",
    "df.to_csv('all_astronauts_filled.csv', index=False)"
   ]
  },
  {
   "cell_type": "code",
   "execution_count": null,
   "id": "anion-gap-feature",
   "metadata": {},
   "outputs": [],
   "source": [
    "# new feature: anion gap\n",
    "df[\"anion_gap\"] = df[\"sodium_value_millimol_per_liter\"] - (\n",
    "    df[\"chloride_value_millimol_per_liter\"] + df[\"carbon_dioxide_value_millimol_per_liter\"]\n",
    ")"
   ]
  },
  {
   "cell_type": "code",
   "execution_count": null,
   "id": "anion-gap-plot",
   "metadata": {},
   "outputs": [],
   "source": [
    "# plot Anion Gap over timepoints per astronaut\n",
    "\n",
    "timepoint_mapping = {\n",
    "    \"L-92\": -97,\n",
    "    \"L-44\": -49,\n",
    "    \"L-3\": -8,\n",
    "    \"R+1\": 6,\n",
    "    \"R+45\": 50,\n",
    "    \"R+82\": 87,\n",
    "    \"R+194\": 199\n",
    "}\n",
    "\n",
    "df[\"day\"] = df[\"timepoint\"].map(timepoint_mapping)\n",
    "\n",
    "df_anion = df[[\"astronautID\", \"day\", \"timepoint\", \"anion_gap\"]].dropna()\n",
    "df_anion = df_anion.sort_values(by=[\"astronautID\", \"day\"])\n",
    "\n",
    "plt.figure(figsize=(8,6))\n",
    "for astro_id, sub_df in df_anion.groupby(\"astronautID\"):\n",
    "    plt.plot(sub_df[\"day\"], sub_df[\"anion_gap\"], marker=\"o\", label=astro_id)\n",
    "\n",
    "plt.title(\"Anion Gap Across Astronauts\")\n",
    "plt.xlabel(\"Timepoint\")\n",
    "plt.ylabel(\"Anion Gap (mmol/L)\")\n",
    "plt.axvline(0, color=\"gray\", linestyle=\"--\", label=\"Launch\")\n",
    "plt.xticks(\n",
    "    ticks=list(timepoint_mapping.values()),\n",
    "    labels=list(timepoint_mapping.keys()),\n",
    "    rotation=45,\n",
    "    ha=\"right\"\n",
    ")\n",
    "plt.legend(title=\"Astronaut ID\")\n",
    "plt.tight_layout()\n",
    "plt.show()"
   ]
  }
 ],
 "metadata": {
  "kernelspec": {
   "display_name": "Python XAI (myenv)",
   "language": "python",
   "name": "xaienv"
  },
  "language_info": {
   "name": "python",
   "version": "3.9.6",
   "mimetype": "text/x-python",
   "codemirror_mode": {
    "name": "ipython",
    "version": 3
   },
   "pygments_lexer": "ipython3",
   "nbconvert_exporter": "python",
   "file_extension": ".py"
  }
 },
 "nbformat": 4,
 "nbformat_minor": 5
}
