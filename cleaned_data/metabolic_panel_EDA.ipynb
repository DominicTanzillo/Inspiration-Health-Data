{
 "cells": [
  {
   "cell_type": "code",
   "execution_count": 1,
   "id": "cd0218b1",
   "metadata": {},
   "outputs": [],
   "source": [
    "import pandas as pd"
   ]
  },
  {
   "cell_type": "code",
   "execution_count": 19,
   "id": "3799232e",
   "metadata": {},
   "outputs": [],
   "source": [
    "df_all = pd.read_csv('LSDS-8_Comprehensive_Metabolic_Panel_CMP_TRANSFORMED_all_astronauts.csv')"
   ]
  },
  {
   "cell_type": "code",
   "execution_count": 16,
   "id": "b06c41d9",
   "metadata": {},
   "outputs": [
    {
     "data": {
      "text/plain": [
       "(28, 60)"
      ]
     },
     "execution_count": 16,
     "metadata": {},
     "output_type": "execute_result"
    }
   ],
   "source": [
    "df_all.shape"
   ]
  },
  {
   "cell_type": "code",
   "execution_count": 7,
   "id": "ed4addb2",
   "metadata": {},
   "outputs": [
    {
     "data": {
      "text/plain": [
       "total_bilirubin_value_milligram_per_deciliter                                        1\n",
       "bun_to_creatinine_ratio_value                                                       22\n",
       "bun_to_creatinine_ratio_range_min                                                    1\n",
       "bun_to_creatinine_ratio_range_max                                                    1\n",
       "egfr_african_american_range_max_milliliter_per_minute_per_1.73_meter_squared        28\n",
       "egfr_non_african_american_range_max_milliliter_per_minute_per_1.73_meter_squared    28\n",
       "dtype: int64"
      ]
     },
     "execution_count": 7,
     "metadata": {},
     "output_type": "execute_result"
    }
   ],
   "source": [
    "# check for missing values\n",
    "\n",
    "missing = df_all.isnull().sum()\n",
    "missing = missing[missing > 0]\n",
    "missing"
   ]
  },
  {
   "cell_type": "code",
   "execution_count": 13,
   "id": "dbcd9689",
   "metadata": {},
   "outputs": [],
   "source": [
    "# fill missing values with median\n",
    "# bilirubin values can be skewed, so median is more robust than mean\n",
    "\n",
    "df_all[\"total_bilirubin_value_milligram_per_deciliter\"] = (\n",
    "    df_all[\"total_bilirubin_value_milligram_per_deciliter\"].fillna(\n",
    "        df_all[\"total_bilirubin_value_milligram_per_deciliter\"].median()\n",
    "    )\n",
    ")"
   ]
  },
  {
   "cell_type": "code",
   "execution_count": null,
   "id": "e620b27d",
   "metadata": {},
   "outputs": [],
   "source": [
    "# do we drop this ? 22/28 are missing\n",
    "df_all[\"bun_to_creatinine_ratio_value\"] = (\n",
    "    df_all[\"bun_to_creatinine_ratio_value\"]\n",
    "    .fillna(df_all[\"bun_to_creatinine_ratio_value\"].median())\n",
    ")\n",
    "\n",
    "df_all[\"bun_to_creatinine_ratio_range_min\"] = (\n",
    "    df_all[\"bun_to_creatinine_ratio_range_min\"]\n",
    "    .fillna(df_all[\"bun_to_creatinine_ratio_range_min\"].median())\n",
    ")\n",
    "\n",
    "df_all[\"bun_to_creatinine_ratio_range_max\"] = (\n",
    "    df_all[\"bun_to_creatinine_ratio_range_max\"]\n",
    "    .fillna(df_all[\"bun_to_creatinine_ratio_range_max\"].median())\n",
    ")"
   ]
  },
  {
   "cell_type": "code",
   "execution_count": 17,
   "id": "713f72a4",
   "metadata": {},
   "outputs": [],
   "source": [
    "# drop empty columns \n",
    "\n",
    "# ---- Drop columns ----\n",
    "df_all = df_all.drop(\n",
    "    columns=[\n",
    "        \"egfr_african_american_range_max_milliliter_per_minute_per_1.73_meter_squared\",\n",
    "        \"egfr_non_african_american_range_max_milliliter_per_minute_per_1.73_meter_squared\",\n",
    "    ],\n",
    "    errors=\"ignore\",  # just in case column missing\n",
    ")"
   ]
  },
  {
   "cell_type": "code",
   "execution_count": 18,
   "id": "8841468e",
   "metadata": {},
   "outputs": [
    {
     "data": {
      "text/plain": [
       "Series([], dtype: int64)"
      ]
     },
     "execution_count": 18,
     "metadata": {},
     "output_type": "execute_result"
    }
   ],
   "source": [
    "# check for missing values\n",
    "\n",
    "missing = df_all.isnull().sum()\n",
    "missing = missing[missing > 0]\n",
    "missing"
   ]
  },
  {
   "cell_type": "code",
   "execution_count": 20,
   "id": "fbac01e5",
   "metadata": {},
   "outputs": [],
   "source": [
    "df_all.to_csv('/Users/mrinalgoel/Desktop/sourcing_data/Inspiration-Health-Data/cleaned_data/LSDS-8_Comprehensive_Metabolic_Panel_CMP_TRANSFORMED_all_astronauts_filled.csv', index=False)   "
   ]
  }
 ],
 "metadata": {
  "kernelspec": {
   "display_name": "Python XAI (myenv)",
   "language": "python",
   "name": "xaienv"
  },
  "language_info": {
   "codemirror_mode": {
    "name": "ipython",
    "version": 3
   },
   "file_extension": ".py",
   "mimetype": "text/x-python",
   "name": "python",
   "nbconvert_exporter": "python",
   "pygments_lexer": "ipython3",
   "version": "3.9.6"
  }
 },
 "nbformat": 4,
 "nbformat_minor": 5
}
